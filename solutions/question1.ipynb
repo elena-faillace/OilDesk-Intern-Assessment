{
 "cells": [
  {
   "cell_type": "markdown",
   "metadata": {},
   "source": [
    "# Question 1: Python Basics and Data Manipulation\n",
    "\n",
    "Objective: \\\n",
    "Demonstrate basic Python skills and data manipulation using Pandas.\n",
    "\n",
    "Task: \\\n",
    "Load a given CSV file containing metal prices into a Pandas DataFrame.\n",
    "Filter the data to include only 'Copper' and 'Zinc' for the year 2021.\n",
    "Calculate the average price per month for each metal and plot it."
   ]
  },
  {
   "cell_type": "code",
   "execution_count": 103,
   "metadata": {},
   "outputs": [],
   "source": [
    "import os\n",
    "\n",
    "import pandas as pd\n",
    "import numpy as np\n",
    "import matplotlib.pyplot as plt\n",
    "\n",
    "data_path = f'{os.pardir}/data/MarketData.csv'"
   ]
  },
  {
   "cell_type": "code",
   "execution_count": 74,
   "metadata": {},
   "outputs": [
    {
     "data": {
      "application/vnd.microsoft.datawrangler.viewer.v0+json": {
       "columns": [
        {
         "name": "index",
         "rawType": "int64",
         "type": "integer"
        },
        {
         "name": "Start Date",
         "rawType": "object",
         "type": "unknown"
        },
        {
         "name": "01/01/2010",
         "rawType": "object",
         "type": "unknown"
        },
        {
         "name": "Unnamed: 2",
         "rawType": "object",
         "type": "unknown"
        },
        {
         "name": "Unnamed: 3",
         "rawType": "object",
         "type": "unknown"
        },
        {
         "name": "Unnamed: 4",
         "rawType": "object",
         "type": "unknown"
        },
        {
         "name": "Unnamed: 5",
         "rawType": "object",
         "type": "unknown"
        },
        {
         "name": "Unnamed: 6",
         "rawType": "object",
         "type": "unknown"
        }
       ],
       "conversionMethod": "pd.DataFrame",
       "ref": "9f184ebf-d7ce-4c26-bb93-cd149da448d0",
       "rows": [
        [
         "0",
         "End Date",
         "01/01/2023",
         null,
         null,
         null,
         null,
         null
        ],
        [
         "1",
         null,
         null,
         null,
         null,
         null,
         null,
         null
        ],
        [
         "2",
         null,
         "LME COPPER    3MO ($)",
         "LME ALUMINUM  3MO ($)",
         "LME ZINC      3MO ($)",
         "LME LEAD      3MO ($)",
         "LME TIN       3MO ($)",
         "Generic 1st 'CL' Future"
        ],
        [
         "3",
         null,
         "LMCADS03 Comdty",
         "LMAHDS03 Comdty",
         "LMZSDS03 Comdty",
         "LMPBDS03 Comdty",
         "LMSNDS03 Comdty",
         "CL1 Comdty"
        ],
        [
         "4",
         null,
         "Settlement Price",
         "Settlement Price",
         "Settlement Price",
         "Settlement Price",
         "Settlement Price",
         "Settlement Price"
        ],
        [
         "5",
         "Dates",
         "PX_SETTLE",
         "PX_SETTLE",
         "PX_SETTLE",
         "PX_SETTLE",
         "PX_SETTLE",
         "PX_SETTLE"
        ],
        [
         "6",
         "01/01/2010",
         "7375",
         "2230",
         "2560",
         "2432",
         "16950",
         "79.36"
        ],
        [
         "7",
         "04/01/2010",
         "7500",
         "2267",
         "2574",
         "2515",
         "17450",
         "81.51"
        ],
        [
         "8",
         "05/01/2010",
         "7485",
         "2302",
         "2575",
         "2522.5",
         "17375",
         "81.77"
        ],
        [
         "9",
         "06/01/2010",
         "7660",
         "2377",
         "2718",
         "2680",
         "17825",
         "83.18"
        ],
        [
         "10",
         "07/01/2010",
         "7535",
         "2310",
         "2607",
         "2599",
         "17475",
         "82.66"
        ],
        [
         "11",
         "08/01/2010",
         "7461",
         "2284",
         "2521",
         "2532",
         "17340",
         "82.75"
        ],
        [
         "12",
         "11/01/2010",
         "7567.5",
         "2330",
         "2573",
         "2531",
         "17900",
         "82.52"
        ],
        [
         "13",
         "12/01/2010",
         "7455",
         "2281",
         "2475",
         "2432",
         "17900",
         "80.79"
        ],
        [
         "14",
         "13/01/2010",
         "7485",
         "2294",
         "2489",
         "2480",
         "18000",
         "79.65"
        ],
        [
         "15",
         "14/01/2010",
         "7490",
         "2335",
         "2503",
         "2507",
         "18425",
         "79.39"
        ],
        [
         "16",
         "15/01/2010",
         "7430",
         "2306",
         "2470",
         "2435",
         "18100",
         "78"
        ],
        [
         "17",
         "18/01/2010",
         "7500",
         "2303.5",
         "2481",
         "2465",
         "18000",
         "78"
        ],
        [
         "18",
         "19/01/2010",
         "7545",
         "2293.5",
         "2503",
         "2425",
         "17975",
         "79.02"
        ],
        [
         "19",
         "20/01/2010",
         "7375",
         "2267",
         "2444",
         "2295",
         "17775",
         "77.62"
        ],
        [
         "20",
         "21/01/2010",
         "7275",
         "2239",
         "2400",
         "2260",
         "17750",
         "76.08"
        ],
        [
         "21",
         "22/01/2010",
         "7390",
         "2231",
         "2350",
         "2237",
         "17775",
         "74.54"
        ],
        [
         "22",
         "25/01/2010",
         "7465",
         "2242",
         "2315",
         "2220",
         "17900",
         "75.26"
        ],
        [
         "23",
         "26/01/2010",
         "7381",
         "2220",
         "2318.5",
         "2200",
         "17975",
         "74.71"
        ],
        [
         "24",
         "27/01/2010",
         "7230",
         "2180",
         "2236",
         "2125",
         "17850",
         "73.67"
        ],
        [
         "25",
         "28/01/2010",
         "6898",
         "2108",
         "2158",
         "2057",
         "17550",
         "73.64"
        ],
        [
         "26",
         "29/01/2010",
         "6745",
         "2079",
         "2110",
         "2025",
         "17200",
         "72.89"
        ],
        [
         "27",
         "01/02/2010",
         "6790",
         "2085",
         "2145",
         "2045",
         "16150",
         "74.43"
        ],
        [
         "28",
         "02/02/2010",
         "6815",
         "2120",
         "2161",
         "2117",
         "16450",
         "77.23"
        ],
        [
         "29",
         "03/02/2010",
         "6590",
         "2083",
         "2092",
         "2021",
         "16600",
         "76.98"
        ],
        [
         "30",
         "04/02/2010",
         "6390",
         "2044",
         "2021",
         "1964.5",
         "16175",
         "73.14"
        ],
        [
         "31",
         "05/02/2010",
         "6280",
         "1980",
         "1940",
         "1936",
         "15450",
         "71.19"
        ],
        [
         "32",
         "08/02/2010",
         "6450",
         "2012",
         "2022.5",
         "1965",
         "15200",
         "71.89"
        ],
        [
         "33",
         "09/02/2010",
         "6590",
         "2056",
         "2104",
         "2032.5",
         "15455",
         "73.75"
        ],
        [
         "34",
         "10/02/2010",
         "6535",
         "2035",
         "2114",
         "2045",
         "15700",
         "74.52"
        ],
        [
         "35",
         "11/02/2010",
         "6939",
         "2056",
         "2180",
         "2125",
         "16200",
         "75.28"
        ],
        [
         "36",
         "12/02/2010",
         "6810",
         "2055",
         "2170",
         "2134",
         "16225",
         "74.13"
        ],
        [
         "37",
         "15/02/2010",
         "6865",
         "2054",
         "2200",
         "2180",
         "16495",
         "74.13"
        ],
        [
         "38",
         "16/02/2010",
         "7144",
         "2131",
         "2337",
         "2298",
         "16700",
         "77.01"
        ],
        [
         "39",
         "17/02/2010",
         "7130",
         "2122",
         "2300",
         "2290",
         "16750",
         "77.33"
        ],
        [
         "40",
         "18/02/2010",
         "7265",
         "2114",
         "2310",
         "2319",
         "16950",
         "79.06"
        ],
        [
         "41",
         "19/02/2010",
         "7431.5",
         "2139",
         "2365",
         "2359",
         "17000",
         "79.81"
        ],
        [
         "42",
         "22/02/2010",
         "7330",
         "2151",
         "2292.5",
         "2325",
         "17175",
         "80.16"
        ],
        [
         "43",
         "23/02/2010",
         "7132",
         "2126",
         "2220",
         "2235",
         "16825",
         "78.86"
        ],
        [
         "44",
         "24/02/2010",
         "7152.5",
         "2137",
         "2204",
         "2215",
         "16975",
         "80"
        ],
        [
         "45",
         "25/02/2010",
         "6999",
         "2086",
         "2116",
         "2150",
         "16725",
         "78.17"
        ],
        [
         "46",
         "26/02/2010",
         "7195",
         "2134",
         "2195",
         "2165",
         "17125",
         "79.66"
        ],
        [
         "47",
         "01/03/2010",
         "7400",
         "2143",
         "2220",
         "2170",
         "17050",
         "78.7"
        ],
        [
         "48",
         "02/03/2010",
         "7491",
         "2168",
         "2255",
         "2199",
         "17090",
         "79.68"
        ],
        [
         "49",
         "03/03/2010",
         "7580",
         "2210",
         "2320",
         "2238.5",
         "17350",
         "80.87"
        ]
       ],
       "shape": {
        "columns": 7,
        "rows": 3397
       }
      },
      "text/html": [
       "<div>\n",
       "<style scoped>\n",
       "    .dataframe tbody tr th:only-of-type {\n",
       "        vertical-align: middle;\n",
       "    }\n",
       "\n",
       "    .dataframe tbody tr th {\n",
       "        vertical-align: top;\n",
       "    }\n",
       "\n",
       "    .dataframe thead th {\n",
       "        text-align: right;\n",
       "    }\n",
       "</style>\n",
       "<table border=\"1\" class=\"dataframe\">\n",
       "  <thead>\n",
       "    <tr style=\"text-align: right;\">\n",
       "      <th></th>\n",
       "      <th>Start Date</th>\n",
       "      <th>01/01/2010</th>\n",
       "      <th>Unnamed: 2</th>\n",
       "      <th>Unnamed: 3</th>\n",
       "      <th>Unnamed: 4</th>\n",
       "      <th>Unnamed: 5</th>\n",
       "      <th>Unnamed: 6</th>\n",
       "    </tr>\n",
       "  </thead>\n",
       "  <tbody>\n",
       "    <tr>\n",
       "      <th>0</th>\n",
       "      <td>End Date</td>\n",
       "      <td>01/01/2023</td>\n",
       "      <td>NaN</td>\n",
       "      <td>NaN</td>\n",
       "      <td>NaN</td>\n",
       "      <td>NaN</td>\n",
       "      <td>NaN</td>\n",
       "    </tr>\n",
       "    <tr>\n",
       "      <th>1</th>\n",
       "      <td>NaN</td>\n",
       "      <td>NaN</td>\n",
       "      <td>NaN</td>\n",
       "      <td>NaN</td>\n",
       "      <td>NaN</td>\n",
       "      <td>NaN</td>\n",
       "      <td>NaN</td>\n",
       "    </tr>\n",
       "    <tr>\n",
       "      <th>2</th>\n",
       "      <td>NaN</td>\n",
       "      <td>LME COPPER    3MO ($)</td>\n",
       "      <td>LME ALUMINUM  3MO ($)</td>\n",
       "      <td>LME ZINC      3MO ($)</td>\n",
       "      <td>LME LEAD      3MO ($)</td>\n",
       "      <td>LME TIN       3MO ($)</td>\n",
       "      <td>Generic 1st 'CL' Future</td>\n",
       "    </tr>\n",
       "    <tr>\n",
       "      <th>3</th>\n",
       "      <td>NaN</td>\n",
       "      <td>LMCADS03 Comdty</td>\n",
       "      <td>LMAHDS03 Comdty</td>\n",
       "      <td>LMZSDS03 Comdty</td>\n",
       "      <td>LMPBDS03 Comdty</td>\n",
       "      <td>LMSNDS03 Comdty</td>\n",
       "      <td>CL1 Comdty</td>\n",
       "    </tr>\n",
       "    <tr>\n",
       "      <th>4</th>\n",
       "      <td>NaN</td>\n",
       "      <td>Settlement Price</td>\n",
       "      <td>Settlement Price</td>\n",
       "      <td>Settlement Price</td>\n",
       "      <td>Settlement Price</td>\n",
       "      <td>Settlement Price</td>\n",
       "      <td>Settlement Price</td>\n",
       "    </tr>\n",
       "    <tr>\n",
       "      <th>...</th>\n",
       "      <td>...</td>\n",
       "      <td>...</td>\n",
       "      <td>...</td>\n",
       "      <td>...</td>\n",
       "      <td>...</td>\n",
       "      <td>...</td>\n",
       "      <td>...</td>\n",
       "    </tr>\n",
       "    <tr>\n",
       "      <th>3392</th>\n",
       "      <td>26/12/2022</td>\n",
       "      <td>8349.5</td>\n",
       "      <td>2389.5</td>\n",
       "      <td>2965</td>\n",
       "      <td>2273.5</td>\n",
       "      <td>23934</td>\n",
       "      <td>79.56</td>\n",
       "    </tr>\n",
       "    <tr>\n",
       "      <th>3393</th>\n",
       "      <td>27/12/2022</td>\n",
       "      <td>8349.5</td>\n",
       "      <td>2389.5</td>\n",
       "      <td>2965</td>\n",
       "      <td>2273.5</td>\n",
       "      <td>23934</td>\n",
       "      <td>79.53</td>\n",
       "    </tr>\n",
       "    <tr>\n",
       "      <th>3394</th>\n",
       "      <td>28/12/2022</td>\n",
       "      <td>8443</td>\n",
       "      <td>2381</td>\n",
       "      <td>3005.5</td>\n",
       "      <td>2218</td>\n",
       "      <td>24734</td>\n",
       "      <td>78.96</td>\n",
       "    </tr>\n",
       "    <tr>\n",
       "      <th>3395</th>\n",
       "      <td>29/12/2022</td>\n",
       "      <td>8418</td>\n",
       "      <td>2405</td>\n",
       "      <td>2984.5</td>\n",
       "      <td>2272.5</td>\n",
       "      <td>24915</td>\n",
       "      <td>78.4</td>\n",
       "    </tr>\n",
       "    <tr>\n",
       "      <th>3396</th>\n",
       "      <td>30/12/2022</td>\n",
       "      <td>8372</td>\n",
       "      <td>2378</td>\n",
       "      <td>2972.5</td>\n",
       "      <td>2293</td>\n",
       "      <td>24808</td>\n",
       "      <td>80.26</td>\n",
       "    </tr>\n",
       "  </tbody>\n",
       "</table>\n",
       "<p>3397 rows × 7 columns</p>\n",
       "</div>"
      ],
      "text/plain": [
       "      Start Date             01/01/2010             Unnamed: 2  \\\n",
       "0       End Date             01/01/2023                    NaN   \n",
       "1            NaN                    NaN                    NaN   \n",
       "2            NaN  LME COPPER    3MO ($)  LME ALUMINUM  3MO ($)   \n",
       "3            NaN        LMCADS03 Comdty        LMAHDS03 Comdty   \n",
       "4            NaN       Settlement Price       Settlement Price   \n",
       "...          ...                    ...                    ...   \n",
       "3392  26/12/2022                 8349.5                 2389.5   \n",
       "3393  27/12/2022                 8349.5                 2389.5   \n",
       "3394  28/12/2022                   8443                   2381   \n",
       "3395  29/12/2022                   8418                   2405   \n",
       "3396  30/12/2022                   8372                   2378   \n",
       "\n",
       "                 Unnamed: 3             Unnamed: 4             Unnamed: 5  \\\n",
       "0                       NaN                    NaN                    NaN   \n",
       "1                       NaN                    NaN                    NaN   \n",
       "2     LME ZINC      3MO ($)  LME LEAD      3MO ($)  LME TIN       3MO ($)   \n",
       "3           LMZSDS03 Comdty        LMPBDS03 Comdty        LMSNDS03 Comdty   \n",
       "4          Settlement Price       Settlement Price       Settlement Price   \n",
       "...                     ...                    ...                    ...   \n",
       "3392                   2965                 2273.5                  23934   \n",
       "3393                   2965                 2273.5                  23934   \n",
       "3394                 3005.5                   2218                  24734   \n",
       "3395                 2984.5                 2272.5                  24915   \n",
       "3396                 2972.5                   2293                  24808   \n",
       "\n",
       "                   Unnamed: 6  \n",
       "0                         NaN  \n",
       "1                         NaN  \n",
       "2     Generic 1st 'CL' Future  \n",
       "3                  CL1 Comdty  \n",
       "4            Settlement Price  \n",
       "...                       ...  \n",
       "3392                    79.56  \n",
       "3393                    79.53  \n",
       "3394                    78.96  \n",
       "3395                     78.4  \n",
       "3396                    80.26  \n",
       "\n",
       "[3397 rows x 7 columns]"
      ]
     },
     "execution_count": 74,
     "metadata": {},
     "output_type": "execute_result"
    }
   ],
   "source": [
    "# Load the data \n",
    "raw_df = pd.read_csv(data_path)\n",
    "raw_df"
   ]
  },
  {
   "cell_type": "code",
   "execution_count": 97,
   "metadata": {},
   "outputs": [
    {
     "name": "stdout",
     "output_type": "stream",
     "text": [
      "Dates     0\n",
      "Copper    0\n",
      "Zinc      0\n",
      "dtype: int64\n"
     ]
    },
    {
     "data": {
      "application/vnd.microsoft.datawrangler.viewer.v0+json": {
       "columns": [
        {
         "name": "index",
         "rawType": "int64",
         "type": "integer"
        },
        {
         "name": "Dates",
         "rawType": "datetime64[ns]",
         "type": "datetime"
        },
        {
         "name": "Copper",
         "rawType": "float64",
         "type": "float"
        },
        {
         "name": "Zinc",
         "rawType": "float64",
         "type": "float"
        }
       ],
       "conversionMethod": "pd.DataFrame",
       "ref": "74eefe28-04c0-45b8-8f38-e1047923005d",
       "rows": [
        [
         "2876",
         "2021-01-01 00:00:00",
         "7766.0",
         "2751.0"
        ],
        [
         "2877",
         "2021-01-04 00:00:00",
         "7860.5",
         "2792.0"
        ],
        [
         "2878",
         "2021-01-05 00:00:00",
         "8002.0",
         "2813.0"
        ],
        [
         "2879",
         "2021-01-06 00:00:00",
         "8037.5",
         "2860.0"
        ],
        [
         "2880",
         "2021-01-07 00:00:00",
         "8179.0",
         "2888.0"
        ],
        [
         "2881",
         "2021-01-08 00:00:00",
         "8131.0",
         "2813.5"
        ],
        [
         "2882",
         "2021-01-11 00:00:00",
         "7864.0",
         "2767.5"
        ],
        [
         "2883",
         "2021-01-12 00:00:00",
         "7975.5",
         "2778.0"
        ],
        [
         "2884",
         "2021-01-13 00:00:00",
         "8009.0",
         "2773.5"
        ],
        [
         "2885",
         "2021-01-14 00:00:00",
         "8048.5",
         "2757.0"
        ],
        [
         "2886",
         "2021-01-15 00:00:00",
         "7949.0",
         "2699.0"
        ],
        [
         "2887",
         "2021-01-18 00:00:00",
         "7971.5",
         "2682.5"
        ],
        [
         "2888",
         "2021-01-19 00:00:00",
         "7954.0",
         "2686.0"
        ],
        [
         "2889",
         "2021-01-20 00:00:00",
         "8044.5",
         "2728.0"
        ],
        [
         "2890",
         "2021-01-21 00:00:00",
         "8021.5",
         "2709.0"
        ],
        [
         "2891",
         "2021-01-22 00:00:00",
         "7997.5",
         "2715.0"
        ],
        [
         "2892",
         "2021-01-25 00:00:00",
         "7969.0",
         "2705.5"
        ],
        [
         "2893",
         "2021-01-26 00:00:00",
         "8008.5",
         "2656.5"
        ],
        [
         "2894",
         "2021-01-27 00:00:00",
         "7825.0",
         "2583.5"
        ],
        [
         "2895",
         "2021-01-28 00:00:00",
         "7873.0",
         "2592.5"
        ],
        [
         "2896",
         "2021-01-29 00:00:00",
         "7856.0",
         "2579.5"
        ],
        [
         "2897",
         "2021-02-01 00:00:00",
         "7798.5",
         "2570.5"
        ],
        [
         "2898",
         "2021-02-02 00:00:00",
         "7777.0",
         "2569.5"
        ],
        [
         "2899",
         "2021-02-03 00:00:00",
         "7842.5",
         "2615.0"
        ],
        [
         "2900",
         "2021-02-04 00:00:00",
         "7823.0",
         "2627.0"
        ],
        [
         "2901",
         "2021-02-05 00:00:00",
         "7912.5",
         "2665.5"
        ],
        [
         "2902",
         "2021-02-08 00:00:00",
         "8037.0",
         "2651.0"
        ],
        [
         "2903",
         "2021-02-09 00:00:00",
         "8147.5",
         "2695.5"
        ],
        [
         "2904",
         "2021-02-10 00:00:00",
         "8299.5",
         "2725.0"
        ],
        [
         "2905",
         "2021-02-11 00:00:00",
         "8280.5",
         "2789.5"
        ],
        [
         "2906",
         "2021-02-12 00:00:00",
         "8332.0",
         "2834.0"
        ],
        [
         "2907",
         "2021-02-15 00:00:00",
         "8393.5",
         "2842.5"
        ],
        [
         "2908",
         "2021-02-16 00:00:00",
         "8405.5",
         "2827.5"
        ],
        [
         "2909",
         "2021-02-17 00:00:00",
         "8390.0",
         "2816.0"
        ],
        [
         "2910",
         "2021-02-18 00:00:00",
         "8553.0",
         "2855.5"
        ],
        [
         "2911",
         "2021-02-19 00:00:00",
         "8909.5",
         "2881.0"
        ],
        [
         "2912",
         "2021-02-22 00:00:00",
         "9097.0",
         "2899.0"
        ],
        [
         "2913",
         "2021-02-23 00:00:00",
         "9206.5",
         "2854.5"
        ],
        [
         "2914",
         "2021-02-24 00:00:00",
         "9308.5",
         "2846.5"
        ],
        [
         "2915",
         "2021-02-25 00:00:00",
         "9412.5",
         "2890.0"
        ],
        [
         "2916",
         "2021-02-26 00:00:00",
         "9077.0",
         "2792.5"
        ],
        [
         "2917",
         "2021-03-01 00:00:00",
         "9044.0",
         "2816.0"
        ],
        [
         "2918",
         "2021-03-02 00:00:00",
         "9170.5",
         "2851.0"
        ],
        [
         "2919",
         "2021-03-03 00:00:00",
         "9101.5",
         "2787.0"
        ],
        [
         "2920",
         "2021-03-04 00:00:00",
         "8907.5",
         "2748.5"
        ],
        [
         "2921",
         "2021-03-05 00:00:00",
         "8895.5",
         "2773.5"
        ],
        [
         "2922",
         "2021-03-08 00:00:00",
         "8998.5",
         "2782.0"
        ],
        [
         "2923",
         "2021-03-09 00:00:00",
         "8779.5",
         "2777.5"
        ],
        [
         "2924",
         "2021-03-10 00:00:00",
         "8861.5",
         "2764.0"
        ],
        [
         "2925",
         "2021-03-11 00:00:00",
         "9057.5",
         "2823.0"
        ]
       ],
       "shape": {
        "columns": 3,
        "rows": 261
       }
      },
      "text/html": [
       "<div>\n",
       "<style scoped>\n",
       "    .dataframe tbody tr th:only-of-type {\n",
       "        vertical-align: middle;\n",
       "    }\n",
       "\n",
       "    .dataframe tbody tr th {\n",
       "        vertical-align: top;\n",
       "    }\n",
       "\n",
       "    .dataframe thead th {\n",
       "        text-align: right;\n",
       "    }\n",
       "</style>\n",
       "<table border=\"1\" class=\"dataframe\">\n",
       "  <thead>\n",
       "    <tr style=\"text-align: right;\">\n",
       "      <th></th>\n",
       "      <th>Dates</th>\n",
       "      <th>Copper</th>\n",
       "      <th>Zinc</th>\n",
       "    </tr>\n",
       "  </thead>\n",
       "  <tbody>\n",
       "    <tr>\n",
       "      <th>2876</th>\n",
       "      <td>2021-01-01</td>\n",
       "      <td>7766.0</td>\n",
       "      <td>2751.0</td>\n",
       "    </tr>\n",
       "    <tr>\n",
       "      <th>2877</th>\n",
       "      <td>2021-01-04</td>\n",
       "      <td>7860.5</td>\n",
       "      <td>2792.0</td>\n",
       "    </tr>\n",
       "    <tr>\n",
       "      <th>2878</th>\n",
       "      <td>2021-01-05</td>\n",
       "      <td>8002.0</td>\n",
       "      <td>2813.0</td>\n",
       "    </tr>\n",
       "    <tr>\n",
       "      <th>2879</th>\n",
       "      <td>2021-01-06</td>\n",
       "      <td>8037.5</td>\n",
       "      <td>2860.0</td>\n",
       "    </tr>\n",
       "    <tr>\n",
       "      <th>2880</th>\n",
       "      <td>2021-01-07</td>\n",
       "      <td>8179.0</td>\n",
       "      <td>2888.0</td>\n",
       "    </tr>\n",
       "    <tr>\n",
       "      <th>...</th>\n",
       "      <td>...</td>\n",
       "      <td>...</td>\n",
       "      <td>...</td>\n",
       "    </tr>\n",
       "    <tr>\n",
       "      <th>3132</th>\n",
       "      <td>2021-12-27</td>\n",
       "      <td>9568.0</td>\n",
       "      <td>3519.0</td>\n",
       "    </tr>\n",
       "    <tr>\n",
       "      <th>3133</th>\n",
       "      <td>2021-12-28</td>\n",
       "      <td>9568.0</td>\n",
       "      <td>3519.0</td>\n",
       "    </tr>\n",
       "    <tr>\n",
       "      <th>3134</th>\n",
       "      <td>2021-12-29</td>\n",
       "      <td>9680.5</td>\n",
       "      <td>3513.0</td>\n",
       "    </tr>\n",
       "    <tr>\n",
       "      <th>3135</th>\n",
       "      <td>2021-12-30</td>\n",
       "      <td>9691.5</td>\n",
       "      <td>3532.5</td>\n",
       "    </tr>\n",
       "    <tr>\n",
       "      <th>3136</th>\n",
       "      <td>2021-12-31</td>\n",
       "      <td>9720.5</td>\n",
       "      <td>3534.0</td>\n",
       "    </tr>\n",
       "  </tbody>\n",
       "</table>\n",
       "<p>261 rows × 3 columns</p>\n",
       "</div>"
      ],
      "text/plain": [
       "          Dates  Copper    Zinc\n",
       "2876 2021-01-01  7766.0  2751.0\n",
       "2877 2021-01-04  7860.5  2792.0\n",
       "2878 2021-01-05  8002.0  2813.0\n",
       "2879 2021-01-06  8037.5  2860.0\n",
       "2880 2021-01-07  8179.0  2888.0\n",
       "...         ...     ...     ...\n",
       "3132 2021-12-27  9568.0  3519.0\n",
       "3133 2021-12-28  9568.0  3519.0\n",
       "3134 2021-12-29  9680.5  3513.0\n",
       "3135 2021-12-30  9691.5  3532.5\n",
       "3136 2021-12-31  9720.5  3534.0\n",
       "\n",
       "[261 rows x 3 columns]"
      ]
     },
     "execution_count": 97,
     "metadata": {},
     "output_type": "execute_result"
    }
   ],
   "source": [
    "# Select only Dates, Copper, and Zinc columns, the first 6 rows are other information\n",
    "df = raw_df.iloc[6:, [0,1,3]].copy()\n",
    "df.columns = ['Dates', 'Copper', 'Zinc']\n",
    "# Ensure the data types are correct\n",
    "df['Dates'] = pd.to_datetime(df['Dates'], format='%d/%m/%Y')\n",
    "df['Copper'] = pd.to_numeric(df['Copper'], errors='coerce')\n",
    "df['Zinc'] = pd.to_numeric(df['Zinc'], errors='coerce')\n",
    "# Select only 2021\n",
    "df = df[df['Dates'].dt.year == 2021]\n",
    "# Check there are no NaN values\n",
    "print(df.isna().sum())\n",
    "df"
   ]
  },
  {
   "cell_type": "code",
   "execution_count": null,
   "metadata": {},
   "outputs": [
    {
     "data": {
      "image/png": "[encoded data removed]",
      "text/plain": [
       "<Figure size 1000x500 with 3 Axes>"
      ]
     },
     "metadata": {},
     "output_type": "display_data"
    }
   ],
   "source": [
    "# Group by Year and Month\n",
    "\n",
    "monthly_avg = df.groupby([df['Dates'].dt.month])[['Copper', 'Zinc']].mean()\n",
    "monthly_avg.index.names = ['Month']\n",
    "monthly_stds = df.groupby([df['Dates'].dt.month])[['Copper', 'Zinc']].std()\n",
    "monthly_stds.index.names = ['Month']\n",
    "\n",
    "fig = plt.figure(figsize=(10, 5))\n",
    "fig.suptitle('Average Monthly Prices of Copper and Zinc in 2021')\n",
    "grid = plt.GridSpec(nrows=2, ncols=2, figure=fig)\n",
    "\n",
    "# Plot the averages together\n",
    "\n",
    "ax = fig.add_subplot(grid[0:2, 0])\n",
    "ax.plot(monthly_avg.index, monthly_avg['Copper'], label='Copper (avg)', color='orange')\n",
    "ax.fill_between(monthly_avg.index, monthly_avg['Copper'] - monthly_stds['Copper'], \n",
    "                 monthly_avg['Copper'] + monthly_stds['Copper'], color='orange', alpha=0.2, label='Copper (std)')\n",
    "ax.plot(monthly_avg.index, monthly_avg['Zinc'], label='Zinc (avg)', color='blue')\n",
    "ax.fill_between(monthly_avg.index, monthly_avg['Zinc'] - monthly_stds['Zinc'],\n",
    "                 monthly_avg['Zinc'] + monthly_stds['Zinc'], color='blue', alpha=0.2, label='Zinc (std)')\n",
    "ax.set_xlabel('Month')\n",
    "ax.set_ylabel('Average Price')\n",
    "ax.spines[['top', 'right']].set_visible(False)\n",
    "ax.legend()\n",
    "ax.set_xticks(monthly_avg.index)\n",
    "\n",
    "# Plot the prices separately as the scales are different\n",
    "\n",
    "ax = fig.add_subplot(grid[0, 1])\n",
    "ax.plot(monthly_avg.index, monthly_avg['Copper'], label='Copper', color='orange')\n",
    "ax.fill_between(monthly_avg.index, monthly_avg['Copper'] - monthly_stds['Copper'], \n",
    "                 monthly_avg['Copper'] + monthly_stds['Copper'], color='orange', alpha=0.2)\n",
    "ax.spines[['top', 'right']].set_visible(False)\n",
    "ax.set_xticks(monthly_avg.index)\n",
    "\n",
    "ax = fig.add_subplot(grid[1, 1])\n",
    "ax.plot(monthly_avg.index, monthly_avg['Zinc'], label='Zinc', color='blue')\n",
    "ax.fill_between(monthly_avg.index, monthly_avg['Zinc'] - monthly_stds['Zinc'],\n",
    "                 monthly_avg['Zinc'] + monthly_stds['Zinc'], color='blue', alpha=0.2)\n",
    "ax.set_xlabel('Month')\n",
    "ax.spines[['top', 'right']].set_visible(False)\n",
    "ax.set_xticks(monthly_avg.index)\n",
    "\n",
    "plt.show()"
   ]
  },
  {
   "cell_type": "code",
   "execution_count": null,
   "metadata": {},
   "outputs": [],
   "source": []
  }
 ],
 "metadata": {
  "kernelspec": {
   "display_name": ".venv",
   "language": "python",
   "name": "python3"
  },
  "language_info": {
   "codemirror_mode": {
    "name": "ipython",
    "version": 3
   },
   "file_extension": ".py",
   "mimetype": "text/x-python",
   "name": "python",
   "nbconvert_exporter": "python",
   "pygments_lexer": "ipython3",
   "version": "3.12.4"
  }
 },
 "nbformat": 4,
 "nbformat_minor": 2
}
