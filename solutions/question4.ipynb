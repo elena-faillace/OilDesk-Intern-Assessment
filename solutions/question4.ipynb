{
 "cells": [
  {
   "cell_type": "markdown",
   "metadata": {},
   "source": [
    "# Question 4: Backtesting\n",
    "\n",
    "Objective: \\\n",
    "Demonstrate understanding of how to implement and backtest a trading strategy.\n",
    "\n",
    "Backtest either: \\\n",
    "RSI or MACD strategies .\n",
    "Show PnL, annualised sharpe ratio, and drawdown over time.\n",
    "Make your code as effieicent (vectorized) as possible."
   ]
  },
  {
   "cell_type": "code",
   "execution_count": 4,
   "metadata": {},
   "outputs": [],
   "source": [
    "import os\n",
    "from datetime import timedelta\n",
    "import sqlite3\n",
    "import time\n",
    "\n",
    "import pandas as pd\n",
    "import numpy as np\n",
    "import matplotlib.pyplot as plt\n",
    "\n",
    "data_path = f'{os.pardir}/data/MarketData.csv'\n",
    "\n",
    "metals = ['COPPER', 'ZINC']"
   ]
  },
  {
   "cell_type": "code",
   "execution_count": 5,
   "metadata": {},
   "outputs": [
    {
     "name": "stdout",
     "output_type": "stream",
     "text": [
      "Getting data for COPPER from 2020-01-01 to 2021-12-31.\n",
      "Finished execution of get_metal_data in 0.00 seconds.\n",
      "\n"
     ]
    },
    {
     "data": {
      "application/vnd.microsoft.datawrangler.viewer.v0+json": {
       "columns": [
        {
         "name": "index",
         "rawType": "int64",
         "type": "integer"
        },
        {
         "name": "Date",
         "rawType": "datetime64[ns]",
         "type": "datetime"
        },
        {
         "name": "Metal",
         "rawType": "object",
         "type": "string"
        },
        {
         "name": "Price",
         "rawType": "float64",
         "type": "float"
        },
        {
         "name": "MACD",
         "rawType": "float64",
         "type": "float"
        },
        {
         "name": "RSI",
         "rawType": "float64",
         "type": "float"
        }
       ],
       "conversionMethod": "pd.DataFrame",
       "ref": "6ecf2719-3244-4229-9d98-c5eb21313f97",
       "rows": [
        [
         "0",
         "2020-01-01 00:00:00",
         "COPPER",
         "6174.0",
         "69.63439425180877",
         "62.25414335807541"
        ],
        [
         "1",
         "2020-01-02 00:00:00",
         "COPPER",
         "6188.0",
         "65.32421246599915",
         "63.81145495740866"
        ],
        [
         "2",
         "2020-01-03 00:00:00",
         "COPPER",
         "6129.5",
         "56.53618727807407",
         "53.862377628259274"
        ],
        [
         "3",
         "2020-01-06 00:00:00",
         "COPPER",
         "6138.5",
         "49.72464404219954",
         "55.0184069721983"
        ],
        [
         "4",
         "2020-01-07 00:00:00",
         "COPPER",
         "6149.0",
         "44.6589090962334",
         "56.38445193778127"
        ],
        [
         "5",
         "2020-01-08 00:00:00",
         "COPPER",
         "6178.0",
         "42.49448531695816",
         "59.9808666431306"
        ],
        [
         "6",
         "2020-01-09 00:00:00",
         "COPPER",
         "6180.0",
         "40.47398822132163",
         "60.223222349316515"
        ],
        [
         "7",
         "2020-01-10 00:00:00",
         "COPPER",
         "6198.0",
         "39.865633081191845",
         "62.41790766619111"
        ],
        [
         "8",
         "2020-01-13 00:00:00",
         "COPPER",
         "6290.0",
         "46.273723691276246",
         "71.13840932643947"
        ],
        [
         "9",
         "2020-01-14 00:00:00",
         "COPPER",
         "6302.0",
         "51.72423657733907",
         "72.04493005509237"
        ],
        [
         "10",
         "2020-01-15 00:00:00",
         "COPPER",
         "6287.0",
         "54.208550245025435",
         "69.13663188005417"
        ],
        [
         "11",
         "2020-01-16 00:00:00",
         "COPPER",
         "6277.5",
         "54.779353828027524",
         "67.29330260948923"
        ],
        [
         "12",
         "2020-01-17 00:00:00",
         "COPPER",
         "6273.0",
         "54.24332411296655",
         "66.3948784680502"
        ],
        [
         "13",
         "2020-01-20 00:00:00",
         "COPPER",
         "6259.0",
         "52.08839115543469",
         "63.56600680362581"
        ],
        [
         "14",
         "2020-01-21 00:00:00",
         "COPPER",
         "6160.0",
         "41.909017571551885",
         "48.053713645690685"
        ],
        [
         "15",
         "2020-01-22 00:00:00",
         "COPPER",
         "6106.0",
         "29.14843692809336",
         "42.055817500391974"
        ],
        [
         "16",
         "2020-01-23 00:00:00",
         "COPPER",
         "5987.0",
         "9.325777598566674",
         "32.48291890746877"
        ],
        [
         "17",
         "2020-01-24 00:00:00",
         "COPPER",
         "5926.0",
         "-11.17716948409361",
         "28.87331073873183"
        ],
        [
         "18",
         "2020-01-27 00:00:00",
         "COPPER",
         "5743.0",
         "-41.71164746071918",
         "21.274458421305695"
        ],
        [
         "19",
         "2020-01-28 00:00:00",
         "COPPER",
         "5703.0",
         "-68.35020829755376",
         "20.03934439586274"
        ],
        [
         "20",
         "2020-01-29 00:00:00",
         "COPPER",
         "5641.0",
         "-93.38782481305043",
         "18.27715694962143"
        ],
        [
         "21",
         "2020-01-30 00:00:00",
         "COPPER",
         "5587.5",
         "-116.20774858088316",
         "16.902937486761985"
        ],
        [
         "22",
         "2020-01-31 00:00:00",
         "COPPER",
         "5567.0",
         "-134.39762904193867",
         "16.39679847218278"
        ],
        [
         "23",
         "2020-02-03 00:00:00",
         "COPPER",
         "5525.0",
         "-150.46779032576342",
         "15.385503176793264"
        ],
        [
         "24",
         "2020-02-04 00:00:00",
         "COPPER",
         "5618.0",
         "-153.92483645610173",
         "26.186234662257476"
        ],
        [
         "25",
         "2020-02-05 00:00:00",
         "COPPER",
         "5722.0",
         "-146.58292289490146",
         "35.97780928440437"
        ],
        [
         "26",
         "2020-02-06 00:00:00",
         "COPPER",
         "5735.0",
         "-138.12321371852067",
         "37.09536974646441"
        ],
        [
         "27",
         "2020-02-07 00:00:00",
         "COPPER",
         "5663.0",
         "-135.66477246957857",
         "33.613543004189054"
        ],
        [
         "28",
         "2020-02-10 00:00:00",
         "COPPER",
         "5667.0",
         "-131.87351767374548",
         "33.98238300504899"
        ],
        [
         "29",
         "2020-02-11 00:00:00",
         "COPPER",
         "5745.0",
         "-121.17810701975941",
         "40.84865470012782"
        ],
        [
         "30",
         "2020-02-12 00:00:00",
         "COPPER",
         "5764.0",
         "-109.90189517381805",
         "42.411861384546135"
        ],
        [
         "31",
         "2020-02-13 00:00:00",
         "COPPER",
         "5790.0",
         "-97.74073893926288",
         "44.55997936694444"
        ],
        [
         "32",
         "2020-02-14 00:00:00",
         "COPPER",
         "5760.0",
         "-89.4920753487786",
         "42.5957055152418"
        ],
        [
         "33",
         "2020-02-17 00:00:00",
         "COPPER",
         "5812.0",
         "-77.86144632092055",
         "46.93954100364474"
        ],
        [
         "34",
         "2020-02-18 00:00:00",
         "COPPER",
         "5773.0",
         "-70.97293131253082",
         "44.24889886250976"
        ],
        [
         "35",
         "2020-02-19 00:00:00",
         "COPPER",
         "5770.0",
         "-65.00645452461868",
         "44.04083697390185"
        ],
        [
         "36",
         "2020-02-20 00:00:00",
         "COPPER",
         "5728.0",
         "-62.94147750246884",
         "41.139236864745335"
        ],
        [
         "37",
         "2020-02-21 00:00:00",
         "COPPER",
         "5765.0",
         "-57.654769265714094",
         "44.58529558185407"
        ],
        [
         "38",
         "2020-02-24 00:00:00",
         "COPPER",
         "5689.0",
         "-58.918405043005805",
         "39.49633928592302"
        ],
        [
         "39",
         "2020-02-25 00:00:00",
         "COPPER",
         "5685.0",
         "-59.556086577431415",
         "39.24374868896232"
        ],
        [
         "40",
         "2020-02-26 00:00:00",
         "COPPER",
         "5670.0",
         "-60.573573972466875",
         "38.26062781454313"
        ],
        [
         "41",
         "2020-02-27 00:00:00",
         "COPPER",
         "5616.0",
         "-64.98814587487323",
         "34.889346519987484"
        ],
        [
         "42",
         "2020-02-28 00:00:00",
         "COPPER",
         "5635.0",
         "-66.19058088815655",
         "36.982621563167086"
        ],
        [
         "43",
         "2020-03-02 00:00:00",
         "COPPER",
         "5700.0",
         "-61.193165802971635",
         "43.62582318972412"
        ],
        [
         "44",
         "2020-03-03 00:00:00",
         "COPPER",
         "5666.5",
         "-59.25281876126974",
         "41.22598052984927"
        ],
        [
         "45",
         "2020-03-04 00:00:00",
         "COPPER",
         "5684.0",
         "-55.66134664869605",
         "42.981522496946766"
        ],
        [
         "46",
         "2020-03-05 00:00:00",
         "COPPER",
         "5674.0",
         "-53.01091867846117",
         "42.20962000923709"
        ],
        [
         "47",
         "2020-03-06 00:00:00",
         "COPPER",
         "5607.0",
         "-55.67498885929126",
         "37.38939698801727"
        ],
        [
         "48",
         "2020-03-09 00:00:00",
         "COPPER",
         "5535.0",
         "-62.87134026752847",
         "33.04453264613052"
        ],
        [
         "49",
         "2020-03-10 00:00:00",
         "COPPER",
         "5566.0",
         "-65.32009034215844",
         "36.4511836689392"
        ]
       ],
       "shape": {
        "columns": 5,
        "rows": 523
       }
      },
      "text/html": [
       "<div>\n",
       "<style scoped>\n",
       "    .dataframe tbody tr th:only-of-type {\n",
       "        vertical-align: middle;\n",
       "    }\n",
       "\n",
       "    .dataframe tbody tr th {\n",
       "        vertical-align: top;\n",
       "    }\n",
       "\n",
       "    .dataframe thead th {\n",
       "        text-align: right;\n",
       "    }\n",
       "</style>\n",
       "<table border=\"1\" class=\"dataframe\">\n",
       "  <thead>\n",
       "    <tr style=\"text-align: right;\">\n",
       "      <th></th>\n",
       "      <th>Date</th>\n",
       "      <th>Metal</th>\n",
       "      <th>Price</th>\n",
       "      <th>MACD</th>\n",
       "      <th>RSI</th>\n",
       "    </tr>\n",
       "  </thead>\n",
       "  <tbody>\n",
       "    <tr>\n",
       "      <th>0</th>\n",
       "      <td>2020-01-01</td>\n",
       "      <td>COPPER</td>\n",
       "      <td>6174.0</td>\n",
       "      <td>69.634394</td>\n",
       "      <td>62.254143</td>\n",
       "    </tr>\n",
       "    <tr>\n",
       "      <th>1</th>\n",
       "      <td>2020-01-02</td>\n",
       "      <td>COPPER</td>\n",
       "      <td>6188.0</td>\n",
       "      <td>65.324212</td>\n",
       "      <td>63.811455</td>\n",
       "    </tr>\n",
       "    <tr>\n",
       "      <th>2</th>\n",
       "      <td>2020-01-03</td>\n",
       "      <td>COPPER</td>\n",
       "      <td>6129.5</td>\n",
       "      <td>56.536187</td>\n",
       "      <td>53.862378</td>\n",
       "    </tr>\n",
       "    <tr>\n",
       "      <th>3</th>\n",
       "      <td>2020-01-06</td>\n",
       "      <td>COPPER</td>\n",
       "      <td>6138.5</td>\n",
       "      <td>49.724644</td>\n",
       "      <td>55.018407</td>\n",
       "    </tr>\n",
       "    <tr>\n",
       "      <th>4</th>\n",
       "      <td>2020-01-07</td>\n",
       "      <td>COPPER</td>\n",
       "      <td>6149.0</td>\n",
       "      <td>44.658909</td>\n",
       "      <td>56.384452</td>\n",
       "    </tr>\n",
       "    <tr>\n",
       "      <th>...</th>\n",
       "      <td>...</td>\n",
       "      <td>...</td>\n",
       "      <td>...</td>\n",
       "      <td>...</td>\n",
       "      <td>...</td>\n",
       "    </tr>\n",
       "    <tr>\n",
       "      <th>518</th>\n",
       "      <td>2021-12-27</td>\n",
       "      <td>COPPER</td>\n",
       "      <td>9568.0</td>\n",
       "      <td>-2.500190</td>\n",
       "      <td>51.494312</td>\n",
       "    </tr>\n",
       "    <tr>\n",
       "      <th>519</th>\n",
       "      <td>2021-12-28</td>\n",
       "      <td>COPPER</td>\n",
       "      <td>9568.0</td>\n",
       "      <td>0.815513</td>\n",
       "      <td>51.494312</td>\n",
       "    </tr>\n",
       "    <tr>\n",
       "      <th>520</th>\n",
       "      <td>2021-12-29</td>\n",
       "      <td>COPPER</td>\n",
       "      <td>9680.5</td>\n",
       "      <td>12.378352</td>\n",
       "      <td>56.027452</td>\n",
       "    </tr>\n",
       "    <tr>\n",
       "      <th>521</th>\n",
       "      <td>2021-12-30</td>\n",
       "      <td>COPPER</td>\n",
       "      <td>9691.5</td>\n",
       "      <td>22.173985</td>\n",
       "      <td>56.453796</td>\n",
       "    </tr>\n",
       "    <tr>\n",
       "      <th>522</th>\n",
       "      <td>2021-12-31</td>\n",
       "      <td>COPPER</td>\n",
       "      <td>9720.5</td>\n",
       "      <td>31.909321</td>\n",
       "      <td>57.614612</td>\n",
       "    </tr>\n",
       "  </tbody>\n",
       "</table>\n",
       "<p>523 rows × 5 columns</p>\n",
       "</div>"
      ],
      "text/plain": [
       "          Date   Metal   Price       MACD        RSI\n",
       "0   2020-01-01  COPPER  6174.0  69.634394  62.254143\n",
       "1   2020-01-02  COPPER  6188.0  65.324212  63.811455\n",
       "2   2020-01-03  COPPER  6129.5  56.536187  53.862378\n",
       "3   2020-01-06  COPPER  6138.5  49.724644  55.018407\n",
       "4   2020-01-07  COPPER  6149.0  44.658909  56.384452\n",
       "..         ...     ...     ...        ...        ...\n",
       "518 2021-12-27  COPPER  9568.0  -2.500190  51.494312\n",
       "519 2021-12-28  COPPER  9568.0   0.815513  51.494312\n",
       "520 2021-12-29  COPPER  9680.5  12.378352  56.027452\n",
       "521 2021-12-30  COPPER  9691.5  22.173985  56.453796\n",
       "522 2021-12-31  COPPER  9720.5  31.909321  57.614612\n",
       "\n",
       "[523 rows x 5 columns]"
      ]
     },
     "execution_count": 5,
     "metadata": {},
     "output_type": "execute_result"
    }
   ],
   "source": [
    "# Get the data from the database\n",
    "def log_execution(func):\n",
    "    def wrapper(*args, **kwargs):\n",
    "        if func.__name__=='get_metal_data':\n",
    "            print(f\"Getting data for {args[0]} from {args[1]} to {args[2]}.\")\n",
    "        else:\n",
    "            print(f\"Running function {func.__name__} with arguments: {args} and keyword arguments: {kwargs}.\")\n",
    "        start_execution = time.time()\n",
    "        result = func(*args, **kwargs)\n",
    "        end_execution = time.time()\n",
    "        print(f\"Finished execution of {func.__name__} in {end_execution - start_execution:.2f} seconds.\\n\")\n",
    "        return result\n",
    "    return wrapper\n",
    "\n",
    "@log_execution\n",
    "def get_metal_data(metal, start_date, end_date):\n",
    "    conn = sqlite3.connect(f'{os.pardir}/market_data.db')\n",
    "    cur = conn.cursor()\n",
    "    cur.execute('''\n",
    "        SELECT * FROM MetalPrices\n",
    "        WHERE Metal = ? AND Date >= ? AND Date <= ?\n",
    "        ORDER BY Date\n",
    "    ''', (metal, start_date, end_date))\n",
    "\n",
    "    df = pd.DataFrame(cur.fetchall(), columns=['Date', 'Metal', 'Price', 'MACD', 'RSI'])\n",
    "    cur.close()\n",
    "    conn.close()\n",
    "    df['Date'] = pd.to_datetime(df['Date'])\n",
    "    return df\n",
    "\n",
    "start_date = '2020-01-01'\n",
    "end_date = '2021-12-31'\n",
    "df = get_metal_data('COPPER', start_date, end_date)\n",
    "df"
   ]
  },
  {
   "cell_type": "code",
   "execution_count": null,
   "metadata": {},
   "outputs": [
    {
     "ename": "TypeError",
     "evalue": "bad operand type for unary ~: 'float'",
     "output_type": "error",
     "traceback": [
      "\u001b[31m---------------------------------------------------------------------------\u001b[39m",
      "\u001b[31mTypeError\u001b[39m                                 Traceback (most recent call last)",
      "\u001b[36mCell\u001b[39m\u001b[36m \u001b[39m\u001b[32mIn[16]\u001b[39m\u001b[32m, line 9\u001b[39m\n\u001b[32m      7\u001b[39m ax.plot(df[\u001b[33m'\u001b[39m\u001b[33mDate\u001b[39m\u001b[33m'\u001b[39m], signal, label=\u001b[33m'\u001b[39m\u001b[33mSignal Line\u001b[39m\u001b[33m'\u001b[39m)\n\u001b[32m      8\u001b[39m mask_MACD_above_signal = (df[\u001b[33m'\u001b[39m\u001b[33mMACD\u001b[39m\u001b[33m'\u001b[39m] > signal).astype(\u001b[38;5;28mbool\u001b[39m)\n\u001b[32m----> \u001b[39m\u001b[32m9\u001b[39m mask_MACD_corsses_signal = mask_MACD_above_signal & \u001b[43m~\u001b[49m\u001b[43mmask_MACD_above_signal\u001b[49m\u001b[43m.\u001b[49m\u001b[43mshift\u001b[49m\u001b[43m(\u001b[49m\u001b[32;43m1\u001b[39;49m\u001b[43m)\u001b[49m\n\u001b[32m     10\u001b[39m ax.scatter(df[\u001b[33m'\u001b[39m\u001b[33mDate\u001b[39m\u001b[33m'\u001b[39m][mask_MACD_corsses_signal], df[\u001b[33m'\u001b[39m\u001b[33mMACD\u001b[39m\u001b[33m'\u001b[39m][mask_MACD_corsses_signal], color=\u001b[33m'\u001b[39m\u001b[33mgreen\u001b[39m\u001b[33m'\u001b[39m, label=\u001b[33m'\u001b[39m\u001b[33mBuy Signal\u001b[39m\u001b[33m'\u001b[39m)\n\u001b[32m     11\u001b[39m ax.legend()\n",
      "\u001b[36mFile \u001b[39m\u001b[32m~/Documents/all_code/OilDesk-Intern-Assessment/.venv/lib/python3.12/site-packages/pandas/core/generic.py:1571\u001b[39m, in \u001b[36mNDFrame.__invert__\u001b[39m\u001b[34m(self)\u001b[39m\n\u001b[32m   1567\u001b[39m \u001b[38;5;28;01mif\u001b[39;00m \u001b[38;5;129;01mnot\u001b[39;00m \u001b[38;5;28mself\u001b[39m.size:\n\u001b[32m   1568\u001b[39m     \u001b[38;5;66;03m# inv fails with 0 len\u001b[39;00m\n\u001b[32m   1569\u001b[39m     \u001b[38;5;28;01mreturn\u001b[39;00m \u001b[38;5;28mself\u001b[39m.copy(deep=\u001b[38;5;28;01mFalse\u001b[39;00m)\n\u001b[32m-> \u001b[39m\u001b[32m1571\u001b[39m new_data = \u001b[38;5;28;43mself\u001b[39;49m\u001b[43m.\u001b[49m\u001b[43m_mgr\u001b[49m\u001b[43m.\u001b[49m\u001b[43mapply\u001b[49m\u001b[43m(\u001b[49m\u001b[43moperator\u001b[49m\u001b[43m.\u001b[49m\u001b[43minvert\u001b[49m\u001b[43m)\u001b[49m\n\u001b[32m   1572\u001b[39m res = \u001b[38;5;28mself\u001b[39m._constructor_from_mgr(new_data, axes=new_data.axes)\n\u001b[32m   1573\u001b[39m \u001b[38;5;28;01mreturn\u001b[39;00m res.__finalize__(\u001b[38;5;28mself\u001b[39m, method=\u001b[33m\"\u001b[39m\u001b[33m__invert__\u001b[39m\u001b[33m\"\u001b[39m)\n",
      "\u001b[36mFile \u001b[39m\u001b[32m~/Documents/all_code/OilDesk-Intern-Assessment/.venv/lib/python3.12/site-packages/pandas/core/internals/managers.py:361\u001b[39m, in \u001b[36mBaseBlockManager.apply\u001b[39m\u001b[34m(self, f, align_keys, **kwargs)\u001b[39m\n\u001b[32m    358\u001b[39m             kwargs[k] = obj[b.mgr_locs.indexer]\n\u001b[32m    360\u001b[39m \u001b[38;5;28;01mif\u001b[39;00m \u001b[38;5;28mcallable\u001b[39m(f):\n\u001b[32m--> \u001b[39m\u001b[32m361\u001b[39m     applied = \u001b[43mb\u001b[49m\u001b[43m.\u001b[49m\u001b[43mapply\u001b[49m\u001b[43m(\u001b[49m\u001b[43mf\u001b[49m\u001b[43m,\u001b[49m\u001b[43m \u001b[49m\u001b[43m*\u001b[49m\u001b[43m*\u001b[49m\u001b[43mkwargs\u001b[49m\u001b[43m)\u001b[49m\n\u001b[32m    362\u001b[39m \u001b[38;5;28;01melse\u001b[39;00m:\n\u001b[32m    363\u001b[39m     applied = \u001b[38;5;28mgetattr\u001b[39m(b, f)(**kwargs)\n",
      "\u001b[36mFile \u001b[39m\u001b[32m~/Documents/all_code/OilDesk-Intern-Assessment/.venv/lib/python3.12/site-packages/pandas/core/internals/blocks.py:393\u001b[39m, in \u001b[36mBlock.apply\u001b[39m\u001b[34m(self, func, **kwargs)\u001b[39m\n\u001b[32m    387\u001b[39m \u001b[38;5;129m@final\u001b[39m\n\u001b[32m    388\u001b[39m \u001b[38;5;28;01mdef\u001b[39;00m\u001b[38;5;250m \u001b[39m\u001b[34mapply\u001b[39m(\u001b[38;5;28mself\u001b[39m, func, **kwargs) -> \u001b[38;5;28mlist\u001b[39m[Block]:\n\u001b[32m    389\u001b[39m \u001b[38;5;250m    \u001b[39m\u001b[33;03m\"\"\"\u001b[39;00m\n\u001b[32m    390\u001b[39m \u001b[33;03m    apply the function to my values; return a block if we are not\u001b[39;00m\n\u001b[32m    391\u001b[39m \u001b[33;03m    one\u001b[39;00m\n\u001b[32m    392\u001b[39m \u001b[33;03m    \"\"\"\u001b[39;00m\n\u001b[32m--> \u001b[39m\u001b[32m393\u001b[39m     result = \u001b[43mfunc\u001b[49m\u001b[43m(\u001b[49m\u001b[38;5;28;43mself\u001b[39;49m\u001b[43m.\u001b[49m\u001b[43mvalues\u001b[49m\u001b[43m,\u001b[49m\u001b[43m \u001b[49m\u001b[43m*\u001b[49m\u001b[43m*\u001b[49m\u001b[43mkwargs\u001b[49m\u001b[43m)\u001b[49m\n\u001b[32m    395\u001b[39m     result = maybe_coerce_values(result)\n\u001b[32m    396\u001b[39m     \u001b[38;5;28;01mreturn\u001b[39;00m \u001b[38;5;28mself\u001b[39m._split_op_result(result)\n",
      "\u001b[31mTypeError\u001b[39m: bad operand type for unary ~: 'float'"
     ]
    },
    {
     "data": {
      "image/png": "[encoded data removed]",
      "text/plain": [
       "<Figure size 1400x1500 with 1 Axes>"
      ]
     },
     "metadata": {},
     "output_type": "display_data"
    }
   ],
   "source": [
    "fig = plt.figure(figsize=(14, 15))\n",
    "grid = fig.add_gridspec(nrows=3, ncols=1)\n",
    "\n",
    "ax = fig.add_subplot(grid[0, 0])\n",
    "ax.plot(df['Date'], df['MACD'], label='MACD')\n",
    "signal = df['MACD'].ewm(span=9, adjust=False).mean()\n",
    "ax.plot(df['Date'], signal, label='Signal Line')\n",
    "mask_MACD_above_signal = df['MACD'] > signal\n",
    "mask_MACD_corsses_signal = \n",
    "ax.scatter(df['Date'][mask_MACD_corsses_signal], df['MACD'][mask_MACD_corsses_signal], color='green', label='Buy Signal')\n",
    "ax.legend()\n",
    "ax.set_title('MACD Indicator')\n",
    "\n",
    "ax = fig.add_subplot(grid[1, 0])\n",
    "ax.plot(df['Date'], df['Price'], label='Price', color='black')\n",
    "ax.legend()\n",
    "ax.set_title('Price Chart')\n",
    "\n",
    "ax = fig.add_subplot(grid[2, 0])\n",
    "ax.plot(df['Date'], df['RSI'], label='RSI')\n",
    "ax.axhline(60, color='red', linestyle='--')\n",
    "ax.axhline(40, color='green', linestyle='--')\n",
    "ax.legend()\n",
    "\n",
    "plt.show()"
   ]
  },
  {
   "cell_type": "code",
   "execution_count": null,
   "metadata": {},
   "outputs": [
    {
     "data": {
      "text/plain": [
       "[<matplotlib.lines.Line2D at 0x1132b5520>]"
      ]
     },
     "execution_count": 18,
     "metadata": {},
     "output_type": "execute_result"
    },
    {
     "data": {
      "image/png": "[encoded data removed]",
      "text/plain": [
       "<Figure size 640x480 with 1 Axes>"
      ]
     },
     "metadata": {},
     "output_type": "display_data"
    }
   ],
   "source": [
    "# Backtest a strategy\n",
    "plt.plot(mask_MACD_above_signal)"
   ]
  },
  {
   "cell_type": "code",
   "execution_count": null,
   "metadata": {},
   "outputs": [],
   "source": []
  },
  {
   "cell_type": "code",
   "execution_count": null,
   "metadata": {},
   "outputs": [],
   "source": []
  },
  {
   "cell_type": "code",
   "execution_count": null,
   "metadata": {},
   "outputs": [],
   "source": []
  }
 ],
 "metadata": {
  "kernelspec": {
   "display_name": ".venv",
   "language": "python",
   "name": "python3"
  },
  "language_info": {
   "codemirror_mode": {
    "name": "ipython",
    "version": 3
   },
   "file_extension": ".py",
   "mimetype": "text/x-python",
   "name": "python",
   "nbconvert_exporter": "python",
   "pygments_lexer": "ipython3",
   "version": "3.12.4"
  }
 },
 "nbformat": 4,
 "nbformat_minor": 2
}
