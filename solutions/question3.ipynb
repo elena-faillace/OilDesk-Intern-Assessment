{
 "cells": [
  {
   "cell_type": "markdown",
   "metadata": {},
   "source": [
    "# Question 3: Data Pipeline and Transformation\n",
    "\n",
    "Objective:\n",
    "- Show understanding of creating data pipelines and transformations.\n",
    "\n",
    "Task:\n",
    "- Using the CSV file from Question 1, filter the data to include only 'Copper' and 'Zinc' for the year 2020 & 2021.\n",
    "- Calculate MACD (slow/medium/fast) and RSI for each metal historically.\n",
    "- Use SQL inserts to populate the SQL table created in Question 2 with this generated data.\n",
    "- Demonstrate the use of a decorator to log the execution of the SQL inserts."
   ]
  },
  {
   "cell_type": "markdown",
   "metadata": {},
   "source": [
    "# Solution\n",
    "\n",
    "For this question I used the following references for the definition of MACD and RSI, and assumptions on the value of the parameters:\n",
    "- [MACD](https://www.investopedia.com/terms/m/macd.asp#toc-what-is-macd): calculated by subtracting the long-term exponential moving average (EMA) over 26 periods from the short-term EMA over 12 periods. The parameters 26 and 12 are traditionally used as default values, but they can be modified to optimise the desired temporal sensitivity.\n",
    "- [RSI](https://en.wikipedia.org/wiki/Relative_strength_index#General_definitions): using the definition developed by J. Welles Wilder, calculates the Relative Strenght (RS) of a time series by looking at the EMA of the gains/losses, to then obtain the index as RSI = 100-100/(1+RS). The standart value for the RS smoothing is usually 14.\n",
    "\n",
    "Given that these indicators use exponential moving averages, the first values of the MACD and RSI will have a bias from the lack of history. For this reason I select an initial padding before the dates of interest (years 2020 and 2021). To decide how much padding is needed, I calculated how many historical periods I need to include before their price is weighted less than 1% of the total weights. Given the recursivness of EMA it is easy to see that the value of the EMA at time 't' is:\n",
    "\n",
    "$$\n",
    "EMA(t) = \\alpha * Price(t) + \\sum_{i=1}^N\\alpha*(1-\\alpha)^i * Price(t-i)\n",
    "$$\n",
    "\n",
    "And I found N such that:\n",
    "\n",
    "$$\n",
    "\\alpha * (1-\\alpha)^N < 0.01\n",
    "$$\n",
    "\n",
    "I could see that for different values of k-periods N plateous around 35 (plot below). Therefore, it is reasonable to always pad the time-series of interest with 50 days of historical data. "
   ]
  },
  {
   "cell_type": "code",
   "execution_count": 31,
   "metadata": {},
   "outputs": [],
   "source": [
    "import os\n",
    "from datetime import timedelta\n",
    "import sqlite3\n",
    "\n",
    "import pandas as pd\n",
    "import numpy as np\n",
    "import matplotlib.pyplot as plt\n",
    "\n",
    "data_path = f'{os.pardir}/data/MarketData.csv'\n",
    "\n",
    "metals = ['COPPER', 'ZINC']"
   ]
  },
  {
   "cell_type": "code",
   "execution_count": 36,
   "metadata": {},
   "outputs": [
    {
     "data": {
      "image/png": "[encoded data removed]",
      "text/plain": [
       "<Figure size 640x480 with 1 Axes>"
      ]
     },
     "metadata": {},
     "output_type": "display_data"
    }
   ],
   "source": [
    "# Calculate how many days of padding I need to calculate an accurate EMA\n",
    "precision = 0.01 # Weight smaller than 5%\n",
    "paddings = []\n",
    "for ema_window in np.arange(5, 100, 5):\n",
    "    N_padding = int(np.ceil(np.log((ema_window + 1) * (precision / 2)) / np.log((ema_window - 1) / (ema_window + 1))))\n",
    "    paddings.append(N_padding)\n",
    "\n",
    "plt.plot(np.arange(5, 100, 5), paddings)\n",
    "plt.xlabel('EMA Window')\n",
    "plt.ylabel('Padding Days')\n",
    "plt.show()"
   ]
  },
  {
   "cell_type": "code",
   "execution_count": 32,
   "metadata": {},
   "outputs": [
    {
     "data": {
      "application/vnd.microsoft.datawrangler.viewer.v0+json": {
       "columns": [
        {
         "name": "index",
         "rawType": "int64",
         "type": "integer"
        },
        {
         "name": "Start Date",
         "rawType": "object",
         "type": "unknown"
        },
        {
         "name": "01/01/2010",
         "rawType": "object",
         "type": "unknown"
        },
        {
         "name": "Unnamed: 2",
         "rawType": "object",
         "type": "unknown"
        },
        {
         "name": "Unnamed: 3",
         "rawType": "object",
         "type": "unknown"
        },
        {
         "name": "Unnamed: 4",
         "rawType": "object",
         "type": "unknown"
        },
        {
         "name": "Unnamed: 5",
         "rawType": "object",
         "type": "unknown"
        },
        {
         "name": "Unnamed: 6",
         "rawType": "object",
         "type": "unknown"
        }
       ],
       "conversionMethod": "pd.DataFrame",
       "ref": "701f444e-5edd-4849-aa6b-21cc06539ffb",
       "rows": [
        [
         "0",
         "End Date",
         "01/01/2023",
         null,
         null,
         null,
         null,
         null
        ],
        [
         "1",
         null,
         null,
         null,
         null,
         null,
         null,
         null
        ],
        [
         "2",
         null,
         "LME COPPER    3MO ($)",
         "LME ALUMINUM  3MO ($)",
         "LME ZINC      3MO ($)",
         "LME LEAD      3MO ($)",
         "LME TIN       3MO ($)",
         "Generic 1st 'CL' Future"
        ],
        [
         "3",
         null,
         "LMCADS03 Comdty",
         "LMAHDS03 Comdty",
         "LMZSDS03 Comdty",
         "LMPBDS03 Comdty",
         "LMSNDS03 Comdty",
         "CL1 Comdty"
        ],
        [
         "4",
         null,
         "Settlement Price",
         "Settlement Price",
         "Settlement Price",
         "Settlement Price",
         "Settlement Price",
         "Settlement Price"
        ],
        [
         "5",
         "Dates",
         "PX_SETTLE",
         "PX_SETTLE",
         "PX_SETTLE",
         "PX_SETTLE",
         "PX_SETTLE",
         "PX_SETTLE"
        ],
        [
         "6",
         "01/01/2010",
         "7375",
         "2230",
         "2560",
         "2432",
         "16950",
         "79.36"
        ],
        [
         "7",
         "04/01/2010",
         "7500",
         "2267",
         "2574",
         "2515",
         "17450",
         "81.51"
        ],
        [
         "8",
         "05/01/2010",
         "7485",
         "2302",
         "2575",
         "2522.5",
         "17375",
         "81.77"
        ],
        [
         "9",
         "06/01/2010",
         "7660",
         "2377",
         "2718",
         "2680",
         "17825",
         "83.18"
        ],
        [
         "10",
         "07/01/2010",
         "7535",
         "2310",
         "2607",
         "2599",
         "17475",
         "82.66"
        ],
        [
         "11",
         "08/01/2010",
         "7461",
         "2284",
         "2521",
         "2532",
         "17340",
         "82.75"
        ],
        [
         "12",
         "11/01/2010",
         "7567.5",
         "2330",
         "2573",
         "2531",
         "17900",
         "82.52"
        ],
        [
         "13",
         "12/01/2010",
         "7455",
         "2281",
         "2475",
         "2432",
         "17900",
         "80.79"
        ],
        [
         "14",
         "13/01/2010",
         "7485",
         "2294",
         "2489",
         "2480",
         "18000",
         "79.65"
        ],
        [
         "15",
         "14/01/2010",
         "7490",
         "2335",
         "2503",
         "2507",
         "18425",
         "79.39"
        ],
        [
         "16",
         "15/01/2010",
         "7430",
         "2306",
         "2470",
         "2435",
         "18100",
         "78"
        ],
        [
         "17",
         "18/01/2010",
         "7500",
         "2303.5",
         "2481",
         "2465",
         "18000",
         "78"
        ],
        [
         "18",
         "19/01/2010",
         "7545",
         "2293.5",
         "2503",
         "2425",
         "17975",
         "79.02"
        ],
        [
         "19",
         "20/01/2010",
         "7375",
         "2267",
         "2444",
         "2295",
         "17775",
         "77.62"
        ],
        [
         "20",
         "21/01/2010",
         "7275",
         "2239",
         "2400",
         "2260",
         "17750",
         "76.08"
        ],
        [
         "21",
         "22/01/2010",
         "7390",
         "2231",
         "2350",
         "2237",
         "17775",
         "74.54"
        ],
        [
         "22",
         "25/01/2010",
         "7465",
         "2242",
         "2315",
         "2220",
         "17900",
         "75.26"
        ],
        [
         "23",
         "26/01/2010",
         "7381",
         "2220",
         "2318.5",
         "2200",
         "17975",
         "74.71"
        ],
        [
         "24",
         "27/01/2010",
         "7230",
         "2180",
         "2236",
         "2125",
         "17850",
         "73.67"
        ],
        [
         "25",
         "28/01/2010",
         "6898",
         "2108",
         "2158",
         "2057",
         "17550",
         "73.64"
        ],
        [
         "26",
         "29/01/2010",
         "6745",
         "2079",
         "2110",
         "2025",
         "17200",
         "72.89"
        ],
        [
         "27",
         "01/02/2010",
         "6790",
         "2085",
         "2145",
         "2045",
         "16150",
         "74.43"
        ],
        [
         "28",
         "02/02/2010",
         "6815",
         "2120",
         "2161",
         "2117",
         "16450",
         "77.23"
        ],
        [
         "29",
         "03/02/2010",
         "6590",
         "2083",
         "2092",
         "2021",
         "16600",
         "76.98"
        ],
        [
         "30",
         "04/02/2010",
         "6390",
         "2044",
         "2021",
         "1964.5",
         "16175",
         "73.14"
        ],
        [
         "31",
         "05/02/2010",
         "6280",
         "1980",
         "1940",
         "1936",
         "15450",
         "71.19"
        ],
        [
         "32",
         "08/02/2010",
         "6450",
         "2012",
         "2022.5",
         "1965",
         "15200",
         "71.89"
        ],
        [
         "33",
         "09/02/2010",
         "6590",
         "2056",
         "2104",
         "2032.5",
         "15455",
         "73.75"
        ],
        [
         "34",
         "10/02/2010",
         "6535",
         "2035",
         "2114",
         "2045",
         "15700",
         "74.52"
        ],
        [
         "35",
         "11/02/2010",
         "6939",
         "2056",
         "2180",
         "2125",
         "16200",
         "75.28"
        ],
        [
         "36",
         "12/02/2010",
         "6810",
         "2055",
         "2170",
         "2134",
         "16225",
         "74.13"
        ],
        [
         "37",
         "15/02/2010",
         "6865",
         "2054",
         "2200",
         "2180",
         "16495",
         "74.13"
        ],
        [
         "38",
         "16/02/2010",
         "7144",
         "2131",
         "2337",
         "2298",
         "16700",
         "77.01"
        ],
        [
         "39",
         "17/02/2010",
         "7130",
         "2122",
         "2300",
         "2290",
         "16750",
         "77.33"
        ],
        [
         "40",
         "18/02/2010",
         "7265",
         "2114",
         "2310",
         "2319",
         "16950",
         "79.06"
        ],
        [
         "41",
         "19/02/2010",
         "7431.5",
         "2139",
         "2365",
         "2359",
         "17000",
         "79.81"
        ],
        [
         "42",
         "22/02/2010",
         "7330",
         "2151",
         "2292.5",
         "2325",
         "17175",
         "80.16"
        ],
        [
         "43",
         "23/02/2010",
         "7132",
         "2126",
         "2220",
         "2235",
         "16825",
         "78.86"
        ],
        [
         "44",
         "24/02/2010",
         "7152.5",
         "2137",
         "2204",
         "2215",
         "16975",
         "80"
        ],
        [
         "45",
         "25/02/2010",
         "6999",
         "2086",
         "2116",
         "2150",
         "16725",
         "78.17"
        ],
        [
         "46",
         "26/02/2010",
         "7195",
         "2134",
         "2195",
         "2165",
         "17125",
         "79.66"
        ],
        [
         "47",
         "01/03/2010",
         "7400",
         "2143",
         "2220",
         "2170",
         "17050",
         "78.7"
        ],
        [
         "48",
         "02/03/2010",
         "7491",
         "2168",
         "2255",
         "2199",
         "17090",
         "79.68"
        ],
        [
         "49",
         "03/03/2010",
         "7580",
         "2210",
         "2320",
         "2238.5",
         "17350",
         "80.87"
        ]
       ],
       "shape": {
        "columns": 7,
        "rows": 3397
       }
      },
      "text/html": [
       "<div>\n",
       "<style scoped>\n",
       "    .dataframe tbody tr th:only-of-type {\n",
       "        vertical-align: middle;\n",
       "    }\n",
       "\n",
       "    .dataframe tbody tr th {\n",
       "        vertical-align: top;\n",
       "    }\n",
       "\n",
       "    .dataframe thead th {\n",
       "        text-align: right;\n",
       "    }\n",
       "</style>\n",
       "<table border=\"1\" class=\"dataframe\">\n",
       "  <thead>\n",
       "    <tr style=\"text-align: right;\">\n",
       "      <th></th>\n",
       "      <th>Start Date</th>\n",
       "      <th>01/01/2010</th>\n",
       "      <th>Unnamed: 2</th>\n",
       "      <th>Unnamed: 3</th>\n",
       "      <th>Unnamed: 4</th>\n",
       "      <th>Unnamed: 5</th>\n",
       "      <th>Unnamed: 6</th>\n",
       "    </tr>\n",
       "  </thead>\n",
       "  <tbody>\n",
       "    <tr>\n",
       "      <th>0</th>\n",
       "      <td>End Date</td>\n",
       "      <td>01/01/2023</td>\n",
       "      <td>NaN</td>\n",
       "      <td>NaN</td>\n",
       "      <td>NaN</td>\n",
       "      <td>NaN</td>\n",
       "      <td>NaN</td>\n",
       "    </tr>\n",
       "    <tr>\n",
       "      <th>1</th>\n",
       "      <td>NaN</td>\n",
       "      <td>NaN</td>\n",
       "      <td>NaN</td>\n",
       "      <td>NaN</td>\n",
       "      <td>NaN</td>\n",
       "      <td>NaN</td>\n",
       "      <td>NaN</td>\n",
       "    </tr>\n",
       "    <tr>\n",
       "      <th>2</th>\n",
       "      <td>NaN</td>\n",
       "      <td>LME COPPER    3MO ($)</td>\n",
       "      <td>LME ALUMINUM  3MO ($)</td>\n",
       "      <td>LME ZINC      3MO ($)</td>\n",
       "      <td>LME LEAD      3MO ($)</td>\n",
       "      <td>LME TIN       3MO ($)</td>\n",
       "      <td>Generic 1st 'CL' Future</td>\n",
       "    </tr>\n",
       "    <tr>\n",
       "      <th>3</th>\n",
       "      <td>NaN</td>\n",
       "      <td>LMCADS03 Comdty</td>\n",
       "      <td>LMAHDS03 Comdty</td>\n",
       "      <td>LMZSDS03 Comdty</td>\n",
       "      <td>LMPBDS03 Comdty</td>\n",
       "      <td>LMSNDS03 Comdty</td>\n",
       "      <td>CL1 Comdty</td>\n",
       "    </tr>\n",
       "    <tr>\n",
       "      <th>4</th>\n",
       "      <td>NaN</td>\n",
       "      <td>Settlement Price</td>\n",
       "      <td>Settlement Price</td>\n",
       "      <td>Settlement Price</td>\n",
       "      <td>Settlement Price</td>\n",
       "      <td>Settlement Price</td>\n",
       "      <td>Settlement Price</td>\n",
       "    </tr>\n",
       "    <tr>\n",
       "      <th>...</th>\n",
       "      <td>...</td>\n",
       "      <td>...</td>\n",
       "      <td>...</td>\n",
       "      <td>...</td>\n",
       "      <td>...</td>\n",
       "      <td>...</td>\n",
       "      <td>...</td>\n",
       "    </tr>\n",
       "    <tr>\n",
       "      <th>3392</th>\n",
       "      <td>26/12/2022</td>\n",
       "      <td>8349.5</td>\n",
       "      <td>2389.5</td>\n",
       "      <td>2965</td>\n",
       "      <td>2273.5</td>\n",
       "      <td>23934</td>\n",
       "      <td>79.56</td>\n",
       "    </tr>\n",
       "    <tr>\n",
       "      <th>3393</th>\n",
       "      <td>27/12/2022</td>\n",
       "      <td>8349.5</td>\n",
       "      <td>2389.5</td>\n",
       "      <td>2965</td>\n",
       "      <td>2273.5</td>\n",
       "      <td>23934</td>\n",
       "      <td>79.53</td>\n",
       "    </tr>\n",
       "    <tr>\n",
       "      <th>3394</th>\n",
       "      <td>28/12/2022</td>\n",
       "      <td>8443</td>\n",
       "      <td>2381</td>\n",
       "      <td>3005.5</td>\n",
       "      <td>2218</td>\n",
       "      <td>24734</td>\n",
       "      <td>78.96</td>\n",
       "    </tr>\n",
       "    <tr>\n",
       "      <th>3395</th>\n",
       "      <td>29/12/2022</td>\n",
       "      <td>8418</td>\n",
       "      <td>2405</td>\n",
       "      <td>2984.5</td>\n",
       "      <td>2272.5</td>\n",
       "      <td>24915</td>\n",
       "      <td>78.4</td>\n",
       "    </tr>\n",
       "    <tr>\n",
       "      <th>3396</th>\n",
       "      <td>30/12/2022</td>\n",
       "      <td>8372</td>\n",
       "      <td>2378</td>\n",
       "      <td>2972.5</td>\n",
       "      <td>2293</td>\n",
       "      <td>24808</td>\n",
       "      <td>80.26</td>\n",
       "    </tr>\n",
       "  </tbody>\n",
       "</table>\n",
       "<p>3397 rows × 7 columns</p>\n",
       "</div>"
      ],
      "text/plain": [
       "      Start Date             01/01/2010             Unnamed: 2  \\\n",
       "0       End Date             01/01/2023                    NaN   \n",
       "1            NaN                    NaN                    NaN   \n",
       "2            NaN  LME COPPER    3MO ($)  LME ALUMINUM  3MO ($)   \n",
       "3            NaN        LMCADS03 Comdty        LMAHDS03 Comdty   \n",
       "4            NaN       Settlement Price       Settlement Price   \n",
       "...          ...                    ...                    ...   \n",
       "3392  26/12/2022                 8349.5                 2389.5   \n",
       "3393  27/12/2022                 8349.5                 2389.5   \n",
       "3394  28/12/2022                   8443                   2381   \n",
       "3395  29/12/2022                   8418                   2405   \n",
       "3396  30/12/2022                   8372                   2378   \n",
       "\n",
       "                 Unnamed: 3             Unnamed: 4             Unnamed: 5  \\\n",
       "0                       NaN                    NaN                    NaN   \n",
       "1                       NaN                    NaN                    NaN   \n",
       "2     LME ZINC      3MO ($)  LME LEAD      3MO ($)  LME TIN       3MO ($)   \n",
       "3           LMZSDS03 Comdty        LMPBDS03 Comdty        LMSNDS03 Comdty   \n",
       "4          Settlement Price       Settlement Price       Settlement Price   \n",
       "...                     ...                    ...                    ...   \n",
       "3392                   2965                 2273.5                  23934   \n",
       "3393                   2965                 2273.5                  23934   \n",
       "3394                 3005.5                   2218                  24734   \n",
       "3395                 2984.5                 2272.5                  24915   \n",
       "3396                 2972.5                   2293                  24808   \n",
       "\n",
       "                   Unnamed: 6  \n",
       "0                         NaN  \n",
       "1                         NaN  \n",
       "2     Generic 1st 'CL' Future  \n",
       "3                  CL1 Comdty  \n",
       "4            Settlement Price  \n",
       "...                       ...  \n",
       "3392                    79.56  \n",
       "3393                    79.53  \n",
       "3394                    78.96  \n",
       "3395                     78.4  \n",
       "3396                    80.26  \n",
       "\n",
       "[3397 rows x 7 columns]"
      ]
     },
     "execution_count": 32,
     "metadata": {},
     "output_type": "execute_result"
    }
   ],
   "source": [
    "# Load the data \n",
    "raw_df = pd.read_csv(data_path)\n",
    "raw_df"
   ]
  },
  {
   "cell_type": "code",
   "execution_count": 35,
   "metadata": {},
   "outputs": [
    {
     "data": {
      "text/plain": [
       "array([ True, False,  True, False, False])"
      ]
     },
     "execution_count": 35,
     "metadata": {},
     "output_type": "execute_result"
    }
   ],
   "source": [
    "# Get columns names for metals\n",
    "columns_metals = raw_df.iloc[2, 1:-1].values\n",
    "columns_metals = [col.split(' ')[1] for col in columns_metals]\n",
    "np.isin(columns_metals, metals)"
   ]
  },
  {
   "cell_type": "code",
   "execution_count": 12,
   "metadata": {},
   "outputs": [
    {
     "name": "stdout",
     "output_type": "stream",
     "text": [
      "Dates     0\n",
      "Copper    0\n",
      "Zinc      0\n",
      "dtype: int64\n"
     ]
    },
    {
     "data": {
      "application/vnd.microsoft.datawrangler.viewer.v0+json": {
       "columns": [
        {
         "name": "index",
         "rawType": "int64",
         "type": "integer"
        },
        {
         "name": "Dates",
         "rawType": "datetime64[ns]",
         "type": "datetime"
        },
        {
         "name": "Copper",
         "rawType": "float64",
         "type": "float"
        },
        {
         "name": "Zinc",
         "rawType": "float64",
         "type": "float"
        }
       ],
       "conversionMethod": "pd.DataFrame",
       "ref": "3fb71e27-acef-4ec1-913d-298e30999abb",
       "rows": [
        [
         "6",
         "2010-01-01 00:00:00",
         "7375.0",
         "2560.0"
        ],
        [
         "7",
         "2010-01-04 00:00:00",
         "7500.0",
         "2574.0"
        ],
        [
         "8",
         "2010-01-05 00:00:00",
         "7485.0",
         "2575.0"
        ],
        [
         "9",
         "2010-01-06 00:00:00",
         "7660.0",
         "2718.0"
        ],
        [
         "10",
         "2010-01-07 00:00:00",
         "7535.0",
         "2607.0"
        ],
        [
         "11",
         "2010-01-08 00:00:00",
         "7461.0",
         "2521.0"
        ],
        [
         "12",
         "2010-01-11 00:00:00",
         "7567.5",
         "2573.0"
        ],
        [
         "13",
         "2010-01-12 00:00:00",
         "7455.0",
         "2475.0"
        ],
        [
         "14",
         "2010-01-13 00:00:00",
         "7485.0",
         "2489.0"
        ],
        [
         "15",
         "2010-01-14 00:00:00",
         "7490.0",
         "2503.0"
        ],
        [
         "16",
         "2010-01-15 00:00:00",
         "7430.0",
         "2470.0"
        ],
        [
         "17",
         "2010-01-18 00:00:00",
         "7500.0",
         "2481.0"
        ],
        [
         "18",
         "2010-01-19 00:00:00",
         "7545.0",
         "2503.0"
        ],
        [
         "19",
         "2010-01-20 00:00:00",
         "7375.0",
         "2444.0"
        ],
        [
         "20",
         "2010-01-21 00:00:00",
         "7275.0",
         "2400.0"
        ],
        [
         "21",
         "2010-01-22 00:00:00",
         "7390.0",
         "2350.0"
        ],
        [
         "22",
         "2010-01-25 00:00:00",
         "7465.0",
         "2315.0"
        ],
        [
         "23",
         "2010-01-26 00:00:00",
         "7381.0",
         "2318.5"
        ],
        [
         "24",
         "2010-01-27 00:00:00",
         "7230.0",
         "2236.0"
        ],
        [
         "25",
         "2010-01-28 00:00:00",
         "6898.0",
         "2158.0"
        ],
        [
         "26",
         "2010-01-29 00:00:00",
         "6745.0",
         "2110.0"
        ],
        [
         "27",
         "2010-02-01 00:00:00",
         "6790.0",
         "2145.0"
        ],
        [
         "28",
         "2010-02-02 00:00:00",
         "6815.0",
         "2161.0"
        ],
        [
         "29",
         "2010-02-03 00:00:00",
         "6590.0",
         "2092.0"
        ],
        [
         "30",
         "2010-02-04 00:00:00",
         "6390.0",
         "2021.0"
        ],
        [
         "31",
         "2010-02-05 00:00:00",
         "6280.0",
         "1940.0"
        ],
        [
         "32",
         "2010-02-08 00:00:00",
         "6450.0",
         "2022.5"
        ],
        [
         "33",
         "2010-02-09 00:00:00",
         "6590.0",
         "2104.0"
        ],
        [
         "34",
         "2010-02-10 00:00:00",
         "6535.0",
         "2114.0"
        ],
        [
         "35",
         "2010-02-11 00:00:00",
         "6939.0",
         "2180.0"
        ],
        [
         "36",
         "2010-02-12 00:00:00",
         "6810.0",
         "2170.0"
        ],
        [
         "37",
         "2010-02-15 00:00:00",
         "6865.0",
         "2200.0"
        ],
        [
         "38",
         "2010-02-16 00:00:00",
         "7144.0",
         "2337.0"
        ],
        [
         "39",
         "2010-02-17 00:00:00",
         "7130.0",
         "2300.0"
        ],
        [
         "40",
         "2010-02-18 00:00:00",
         "7265.0",
         "2310.0"
        ],
        [
         "41",
         "2010-02-19 00:00:00",
         "7431.5",
         "2365.0"
        ],
        [
         "42",
         "2010-02-22 00:00:00",
         "7330.0",
         "2292.5"
        ],
        [
         "43",
         "2010-02-23 00:00:00",
         "7132.0",
         "2220.0"
        ],
        [
         "44",
         "2010-02-24 00:00:00",
         "7152.5",
         "2204.0"
        ],
        [
         "45",
         "2010-02-25 00:00:00",
         "6999.0",
         "2116.0"
        ],
        [
         "46",
         "2010-02-26 00:00:00",
         "7195.0",
         "2195.0"
        ],
        [
         "47",
         "2010-03-01 00:00:00",
         "7400.0",
         "2220.0"
        ],
        [
         "48",
         "2010-03-02 00:00:00",
         "7491.0",
         "2255.0"
        ],
        [
         "49",
         "2010-03-03 00:00:00",
         "7580.0",
         "2320.0"
        ],
        [
         "50",
         "2010-03-04 00:00:00",
         "7398.0",
         "2259.0"
        ],
        [
         "51",
         "2010-03-05 00:00:00",
         "7545.0",
         "2349.0"
        ],
        [
         "52",
         "2010-03-08 00:00:00",
         "7470.0",
         "2370.0"
        ],
        [
         "53",
         "2010-03-09 00:00:00",
         "7510.0",
         "2375.0"
        ],
        [
         "54",
         "2010-03-10 00:00:00",
         "7440.0",
         "2376.0"
        ],
        [
         "55",
         "2010-03-11 00:00:00",
         "7464.0",
         "2340.0"
        ]
       ],
       "shape": {
        "columns": 3,
        "rows": 3391
       }
      },
      "text/html": [
       "<div>\n",
       "<style scoped>\n",
       "    .dataframe tbody tr th:only-of-type {\n",
       "        vertical-align: middle;\n",
       "    }\n",
       "\n",
       "    .dataframe tbody tr th {\n",
       "        vertical-align: top;\n",
       "    }\n",
       "\n",
       "    .dataframe thead th {\n",
       "        text-align: right;\n",
       "    }\n",
       "</style>\n",
       "<table border=\"1\" class=\"dataframe\">\n",
       "  <thead>\n",
       "    <tr style=\"text-align: right;\">\n",
       "      <th></th>\n",
       "      <th>Dates</th>\n",
       "      <th>Copper</th>\n",
       "      <th>Zinc</th>\n",
       "    </tr>\n",
       "  </thead>\n",
       "  <tbody>\n",
       "    <tr>\n",
       "      <th>6</th>\n",
       "      <td>2010-01-01</td>\n",
       "      <td>7375.0</td>\n",
       "      <td>2560.0</td>\n",
       "    </tr>\n",
       "    <tr>\n",
       "      <th>7</th>\n",
       "      <td>2010-01-04</td>\n",
       "      <td>7500.0</td>\n",
       "      <td>2574.0</td>\n",
       "    </tr>\n",
       "    <tr>\n",
       "      <th>8</th>\n",
       "      <td>2010-01-05</td>\n",
       "      <td>7485.0</td>\n",
       "      <td>2575.0</td>\n",
       "    </tr>\n",
       "    <tr>\n",
       "      <th>9</th>\n",
       "      <td>2010-01-06</td>\n",
       "      <td>7660.0</td>\n",
       "      <td>2718.0</td>\n",
       "    </tr>\n",
       "    <tr>\n",
       "      <th>10</th>\n",
       "      <td>2010-01-07</td>\n",
       "      <td>7535.0</td>\n",
       "      <td>2607.0</td>\n",
       "    </tr>\n",
       "    <tr>\n",
       "      <th>...</th>\n",
       "      <td>...</td>\n",
       "      <td>...</td>\n",
       "      <td>...</td>\n",
       "    </tr>\n",
       "    <tr>\n",
       "      <th>3392</th>\n",
       "      <td>2022-12-26</td>\n",
       "      <td>8349.5</td>\n",
       "      <td>2965.0</td>\n",
       "    </tr>\n",
       "    <tr>\n",
       "      <th>3393</th>\n",
       "      <td>2022-12-27</td>\n",
       "      <td>8349.5</td>\n",
       "      <td>2965.0</td>\n",
       "    </tr>\n",
       "    <tr>\n",
       "      <th>3394</th>\n",
       "      <td>2022-12-28</td>\n",
       "      <td>8443.0</td>\n",
       "      <td>3005.5</td>\n",
       "    </tr>\n",
       "    <tr>\n",
       "      <th>3395</th>\n",
       "      <td>2022-12-29</td>\n",
       "      <td>8418.0</td>\n",
       "      <td>2984.5</td>\n",
       "    </tr>\n",
       "    <tr>\n",
       "      <th>3396</th>\n",
       "      <td>2022-12-30</td>\n",
       "      <td>8372.0</td>\n",
       "      <td>2972.5</td>\n",
       "    </tr>\n",
       "  </tbody>\n",
       "</table>\n",
       "<p>3391 rows × 3 columns</p>\n",
       "</div>"
      ],
      "text/plain": [
       "          Dates  Copper    Zinc\n",
       "6    2010-01-01  7375.0  2560.0\n",
       "7    2010-01-04  7500.0  2574.0\n",
       "8    2010-01-05  7485.0  2575.0\n",
       "9    2010-01-06  7660.0  2718.0\n",
       "10   2010-01-07  7535.0  2607.0\n",
       "...         ...     ...     ...\n",
       "3392 2022-12-26  8349.5  2965.0\n",
       "3393 2022-12-27  8349.5  2965.0\n",
       "3394 2022-12-28  8443.0  3005.5\n",
       "3395 2022-12-29  8418.0  2984.5\n",
       "3396 2022-12-30  8372.0  2972.5\n",
       "\n",
       "[3391 rows x 3 columns]"
      ]
     },
     "execution_count": 12,
     "metadata": {},
     "output_type": "execute_result"
    }
   ],
   "source": [
    "# Select only Dates, Copper, and Zinc columns, the first 6 rows are other information\n",
    "df = raw_df.iloc[6:, [0,1,3]].copy() # TODO: do this by using the column names\n",
    "df.columns = ['Dates', 'Copper', 'Zinc']\n",
    "# Ensure the data types are correct\n",
    "df['Dates'] = pd.to_datetime(df['Dates'], format='%d/%m/%Y', errors='coerce')\n",
    "df['Copper'] = pd.to_numeric(df['Copper'], errors='coerce')\n",
    "df['Zinc'] = pd.to_numeric(df['Zinc'], errors='coerce')\n",
    "print(df.isna().sum())\n",
    "df"
   ]
  },
  {
   "cell_type": "code",
   "execution_count": null,
   "metadata": {},
   "outputs": [
    {
     "data": {
      "image/png": "[encoded data removed]",
      "text/plain": [
       "<Figure size 640x480 with 1 Axes>"
      ]
     },
     "metadata": {},
     "output_type": "display_data"
    }
   ],
   "source": []
  },
  {
   "cell_type": "code",
   "execution_count": 14,
   "metadata": {},
   "outputs": [
    {
     "data": {
      "application/vnd.microsoft.datawrangler.viewer.v0+json": {
       "columns": [
        {
         "name": "index",
         "rawType": "int64",
         "type": "integer"
        },
        {
         "name": "Dates",
         "rawType": "datetime64[ns]",
         "type": "datetime"
        },
        {
         "name": "Copper",
         "rawType": "float64",
         "type": "float"
        },
        {
         "name": "Zinc",
         "rawType": "float64",
         "type": "float"
        }
       ],
       "conversionMethod": "pd.DataFrame",
       "ref": "a4bcb665-396a-4059-936e-5c973cd18247",
       "rows": [
        [
         "2587",
         "2019-11-25 00:00:00",
         "5868.0",
         "2281.0"
        ],
        [
         "2588",
         "2019-11-26 00:00:00",
         "5924.0",
         "2299.0"
        ],
        [
         "2589",
         "2019-11-27 00:00:00",
         "5945.0",
         "2297.0"
        ],
        [
         "2590",
         "2019-11-28 00:00:00",
         "5892.0",
         "2278.0"
        ],
        [
         "2591",
         "2019-11-29 00:00:00",
         "5864.0",
         "2273.5"
        ],
        [
         "2592",
         "2019-12-02 00:00:00",
         "5883.0",
         "2243.0"
        ],
        [
         "2593",
         "2019-12-03 00:00:00",
         "5815.0",
         "2202.0"
        ],
        [
         "2594",
         "2019-12-04 00:00:00",
         "5885.0",
         "2246.0"
        ],
        [
         "2595",
         "2019-12-05 00:00:00",
         "5888.0",
         "2234.0"
        ],
        [
         "2596",
         "2019-12-06 00:00:00",
         "5990.0",
         "2238.0"
        ],
        [
         "2597",
         "2019-12-09 00:00:00",
         "6075.0",
         "2239.0"
        ],
        [
         "2598",
         "2019-12-10 00:00:00",
         "6100.0",
         "2227.5"
        ],
        [
         "2599",
         "2019-12-11 00:00:00",
         "6156.0",
         "2222.0"
        ],
        [
         "2600",
         "2019-12-12 00:00:00",
         "6156.0",
         "2263.0"
        ],
        [
         "2601",
         "2019-12-13 00:00:00",
         "6130.0",
         "2253.0"
        ],
        [
         "2602",
         "2019-12-16 00:00:00",
         "6199.0",
         "2291.0"
        ],
        [
         "2603",
         "2019-12-17 00:00:00",
         "6200.0",
         "2281.5"
        ],
        [
         "2604",
         "2019-12-18 00:00:00",
         "6174.5",
         "2301.0"
        ],
        [
         "2605",
         "2019-12-19 00:00:00",
         "6215.0",
         "2325.0"
        ],
        [
         "2606",
         "2019-12-20 00:00:00",
         "6175.0",
         "2341.0"
        ],
        [
         "2607",
         "2019-12-23 00:00:00",
         "6190.0",
         "2291.0"
        ],
        [
         "2608",
         "2019-12-24 00:00:00",
         "6215.0",
         "2274.0"
        ],
        [
         "2609",
         "2019-12-25 00:00:00",
         "6215.0",
         "2274.0"
        ],
        [
         "2610",
         "2019-12-26 00:00:00",
         "6215.0",
         "2274.0"
        ],
        [
         "2611",
         "2019-12-27 00:00:00",
         "6214.0",
         "2305.0"
        ],
        [
         "2612",
         "2019-12-30 00:00:00",
         "6219.0",
         "2306.0"
        ],
        [
         "2613",
         "2019-12-31 00:00:00",
         "6174.0",
         "2272.0"
        ],
        [
         "2614",
         "2020-01-01 00:00:00",
         "6174.0",
         "2272.0"
        ],
        [
         "2615",
         "2020-01-02 00:00:00",
         "6188.0",
         "2310.0"
        ],
        [
         "2616",
         "2020-01-03 00:00:00",
         "6129.5",
         "2306.0"
        ],
        [
         "2617",
         "2020-01-06 00:00:00",
         "6138.5",
         "2324.5"
        ],
        [
         "2618",
         "2020-01-07 00:00:00",
         "6149.0",
         "2346.0"
        ],
        [
         "2619",
         "2020-01-08 00:00:00",
         "6178.0",
         "2403.0"
        ],
        [
         "2620",
         "2020-01-09 00:00:00",
         "6180.0",
         "2377.0"
        ],
        [
         "2621",
         "2020-01-10 00:00:00",
         "6198.0",
         "2378.0"
        ],
        [
         "2622",
         "2020-01-13 00:00:00",
         "6290.0",
         "2378.0"
        ],
        [
         "2623",
         "2020-01-14 00:00:00",
         "6302.0",
         "2373.5"
        ],
        [
         "2624",
         "2020-01-15 00:00:00",
         "6287.0",
         "2385.0"
        ],
        [
         "2625",
         "2020-01-16 00:00:00",
         "6277.5",
         "2422.0"
        ],
        [
         "2626",
         "2020-01-17 00:00:00",
         "6273.0",
         "2429.5"
        ],
        [
         "2627",
         "2020-01-20 00:00:00",
         "6259.0",
         "2444.0"
        ],
        [
         "2628",
         "2020-01-21 00:00:00",
         "6160.0",
         "2454.5"
        ],
        [
         "2629",
         "2020-01-22 00:00:00",
         "6106.0",
         "2396.0"
        ],
        [
         "2630",
         "2020-01-23 00:00:00",
         "5987.0",
         "2355.0"
        ],
        [
         "2631",
         "2020-01-24 00:00:00",
         "5926.0",
         "2341.0"
        ],
        [
         "2632",
         "2020-01-27 00:00:00",
         "5743.0",
         "2240.0"
        ],
        [
         "2633",
         "2020-01-28 00:00:00",
         "5703.0",
         "2230.0"
        ],
        [
         "2634",
         "2020-01-29 00:00:00",
         "5641.0",
         "2211.0"
        ],
        [
         "2635",
         "2020-01-30 00:00:00",
         "5587.5",
         "2188.0"
        ],
        [
         "2636",
         "2020-01-31 00:00:00",
         "5567.0",
         "2200.0"
        ]
       ],
       "shape": {
        "columns": 3,
        "rows": 549
       }
      },
      "text/html": [
       "<div>\n",
       "<style scoped>\n",
       "    .dataframe tbody tr th:only-of-type {\n",
       "        vertical-align: middle;\n",
       "    }\n",
       "\n",
       "    .dataframe tbody tr th {\n",
       "        vertical-align: top;\n",
       "    }\n",
       "\n",
       "    .dataframe thead th {\n",
       "        text-align: right;\n",
       "    }\n",
       "</style>\n",
       "<table border=\"1\" class=\"dataframe\">\n",
       "  <thead>\n",
       "    <tr style=\"text-align: right;\">\n",
       "      <th></th>\n",
       "      <th>Dates</th>\n",
       "      <th>Copper</th>\n",
       "      <th>Zinc</th>\n",
       "    </tr>\n",
       "  </thead>\n",
       "  <tbody>\n",
       "    <tr>\n",
       "      <th>2587</th>\n",
       "      <td>2019-11-25</td>\n",
       "      <td>5868.0</td>\n",
       "      <td>2281.0</td>\n",
       "    </tr>\n",
       "    <tr>\n",
       "      <th>2588</th>\n",
       "      <td>2019-11-26</td>\n",
       "      <td>5924.0</td>\n",
       "      <td>2299.0</td>\n",
       "    </tr>\n",
       "    <tr>\n",
       "      <th>2589</th>\n",
       "      <td>2019-11-27</td>\n",
       "      <td>5945.0</td>\n",
       "      <td>2297.0</td>\n",
       "    </tr>\n",
       "    <tr>\n",
       "      <th>2590</th>\n",
       "      <td>2019-11-28</td>\n",
       "      <td>5892.0</td>\n",
       "      <td>2278.0</td>\n",
       "    </tr>\n",
       "    <tr>\n",
       "      <th>2591</th>\n",
       "      <td>2019-11-29</td>\n",
       "      <td>5864.0</td>\n",
       "      <td>2273.5</td>\n",
       "    </tr>\n",
       "    <tr>\n",
       "      <th>...</th>\n",
       "      <td>...</td>\n",
       "      <td>...</td>\n",
       "      <td>...</td>\n",
       "    </tr>\n",
       "    <tr>\n",
       "      <th>3131</th>\n",
       "      <td>2021-12-24</td>\n",
       "      <td>9568.0</td>\n",
       "      <td>3519.0</td>\n",
       "    </tr>\n",
       "    <tr>\n",
       "      <th>3132</th>\n",
       "      <td>2021-12-27</td>\n",
       "      <td>9568.0</td>\n",
       "      <td>3519.0</td>\n",
       "    </tr>\n",
       "    <tr>\n",
       "      <th>3133</th>\n",
       "      <td>2021-12-28</td>\n",
       "      <td>9568.0</td>\n",
       "      <td>3519.0</td>\n",
       "    </tr>\n",
       "    <tr>\n",
       "      <th>3134</th>\n",
       "      <td>2021-12-29</td>\n",
       "      <td>9680.5</td>\n",
       "      <td>3513.0</td>\n",
       "    </tr>\n",
       "    <tr>\n",
       "      <th>3135</th>\n",
       "      <td>2021-12-30</td>\n",
       "      <td>9691.5</td>\n",
       "      <td>3532.5</td>\n",
       "    </tr>\n",
       "  </tbody>\n",
       "</table>\n",
       "<p>549 rows × 3 columns</p>\n",
       "</div>"
      ],
      "text/plain": [
       "          Dates  Copper    Zinc\n",
       "2587 2019-11-25  5868.0  2281.0\n",
       "2588 2019-11-26  5924.0  2299.0\n",
       "2589 2019-11-27  5945.0  2297.0\n",
       "2590 2019-11-28  5892.0  2278.0\n",
       "2591 2019-11-29  5864.0  2273.5\n",
       "...         ...     ...     ...\n",
       "3131 2021-12-24  9568.0  3519.0\n",
       "3132 2021-12-27  9568.0  3519.0\n",
       "3133 2021-12-28  9568.0  3519.0\n",
       "3134 2021-12-29  9680.5  3513.0\n",
       "3135 2021-12-30  9691.5  3532.5\n",
       "\n",
       "[549 rows x 3 columns]"
      ]
     },
     "execution_count": 14,
     "metadata": {},
     "output_type": "execute_result"
    }
   ],
   "source": [
    "# # Select only 2020 and 2021 with a padding at the beginning\n",
    "start_date = pd.to_datetime('2020-01-01')\n",
    "end_date = pd.to_datetime('2021-12-31')\n",
    "# Use a padding to calculate the EMA and RSI without a starting bias\n",
    "padding = 40\n",
    "cutoff_date = start_date - timedelta(days=padding)\n",
    "df = df[(df['Dates'] > cutoff_date) & (df['Dates'] < end_date)]\n",
    "df"
   ]
  },
  {
   "cell_type": "code",
   "execution_count": null,
   "metadata": {},
   "outputs": [],
   "source": [
    "# Calculate the MACD for Copper and Zinc\n",
    "\n",
    "def calculate_MACD(time_data, short_window=12, long_window=26):\n",
    "    \"\"\"Calculate the Moving Average Convergence Divergence (MACD) for a given time series.\n",
    "    INPUTS:\n",
    "    - data: pd.Series, the time series data \n",
    "    - short_window, long_window: int, the short and long window periods for MACD line (EMA_short - EMA_long).\n",
    "    OUTPUTS:\n",
    "    - macd: pd.Series, as per definition\n",
    "    \"\"\"\n",
    "    short_EMA = time_data.ewm(span=short_window, adjust=False).mean()\n",
    "    long_EMA = time_data.ewm(span=long_window, adjust=False).mean()\n",
    "    return short_EMA - long_EMA\n",
    "\n",
    "def calculate_RSI(time_data, window=14):\n",
    "    \"\"\"Calculate the Relative Strength Index (RSI) for a given time series.\n",
    "    The Relative Strenght (RS) is a simple moving average of the gains and losses over the specified window.\n",
    "    INPUTS:\n",
    "    - data: pd.Series, the time series data \n",
    "    - window: int, the window period for RSI\n",
    "    OUTPUTS:\n",
    "    - rsi: pd.Series, as per definition\n",
    "    \"\"\"\n",
    "    delta = time_data.diff()\n",
    "    gain = delta.where(delta > 0, 0)\n",
    "    loss = -delta.where(delta < 0, 0) \n",
    "    avg_gain = gain.rolling(window=window).mean()\n",
    "    avg_loss = loss.rolling(window=window).mean()\n",
    "    # Avoid division by zero\n",
    "    rs = avg_gain / avg_loss.replace(to_replace=0, value=10e-10)\n",
    "    rsi = 100 - (100 / (1 + rs))\n",
    "    return rsi\n",
    "\n",
    "macd_copper = calculate_MACD(df['Copper'])\n",
    "rsi_copper = calculate_RSI(df['Copper'])"
   ]
  },
  {
   "cell_type": "code",
   "execution_count": 16,
   "metadata": {},
   "outputs": [
    {
     "data": {
      "text/plain": [
       "[<matplotlib.lines.Line2D at 0x1243945c0>]"
      ]
     },
     "execution_count": 16,
     "metadata": {},
     "output_type": "execute_result"
    },
    {
     "data": {
      "image/png": "[encoded data removed]",
      "text/plain": [
       "<Figure size 640x480 with 1 Axes>"
      ]
     },
     "metadata": {},
     "output_type": "display_data"
    }
   ],
   "source": [
    "plt.plot(rsi_copper)"
   ]
  },
  {
   "cell_type": "code",
   "execution_count": 22,
   "metadata": {},
   "outputs": [],
   "source": [
    "time_data = df['Copper']\n",
    "window = 14    \n",
    "\n",
    "delta = time_data.diff()\n",
    "gain = delta.where(delta > 0, 0)\n",
    "loss = -delta.where(delta < 0, 0) \n",
    "avg_gain = gain.ewm(com=window).mean()\n",
    "avg_loss = loss.ewm(com=window).mean()\n",
    "# Avoid division by zero\n",
    "rs = avg_gain / avg_loss.replace(to_replace=0, value=10e-10)\n",
    "rsi_ = 100 - (100 / (1 + rs))"
   ]
  },
  {
   "cell_type": "code",
   "execution_count": 23,
   "metadata": {},
   "outputs": [
    {
     "data": {
      "text/plain": [
       "[<matplotlib.lines.Line2D at 0x124766b10>]"
      ]
     },
     "execution_count": 23,
     "metadata": {},
     "output_type": "execute_result"
    },
    {
     "data": {
      "image/png": "[encoded data removed]",
      "text/plain": [
       "<Figure size 640x480 with 1 Axes>"
      ]
     },
     "metadata": {},
     "output_type": "display_data"
    }
   ],
   "source": [
    "plt.plot(rsi)\n",
    "plt.plot(rsi_)"
   ]
  },
  {
   "cell_type": "code",
   "execution_count": null,
   "metadata": {},
   "outputs": [],
   "source": []
  },
  {
   "cell_type": "code",
   "execution_count": null,
   "metadata": {},
   "outputs": [],
   "source": []
  },
  {
   "cell_type": "code",
   "execution_count": null,
   "metadata": {},
   "outputs": [],
   "source": []
  }
 ],
 "metadata": {
  "kernelspec": {
   "display_name": ".venv",
   "language": "python",
   "name": "python3"
  },
  "language_info": {
   "codemirror_mode": {
    "name": "ipython",
    "version": 3
   },
   "file_extension": ".py",
   "mimetype": "text/x-python",
   "name": "python",
   "nbconvert_exporter": "python",
   "pygments_lexer": "ipython3",
   "version": "3.12.7"
  }
 },
 "nbformat": 4,
 "nbformat_minor": 2
}
